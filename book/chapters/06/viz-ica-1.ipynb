{
 "cells": [
  {
   "cell_type": "markdown",
   "metadata": {},
   "source": [
    "# In Class Activity - Visualizing Data with Matplotlib and Seaborn"
   ]
  },
  {
   "cell_type": "markdown",
   "metadata": {},
   "source": [
    "```{note}\n",
    "This exercise authored by [Mark K Ho](https://markkho.github.io/) is released under the [license](/LICENSE.html). \n",
    "```"
   ]
  },
  {
   "cell_type": "markdown",
   "metadata": {},
   "source": [
    "This lab focuses on creating plots using Matplotlib and Seaborn. [Matplotlib](https://matplotlib.org/) is a general purpose library for creating various kinds of visualizations in Python, including static, animated, and even interactive plots. [Seaborn](https://seaborn.pydata.org/) is a Python library that provides utilities for plotting and visualizing data and uses Matplotlib under the hood. For most purposes, seaborn is sufficient, but when we need more detailed control over our plots, we will turn to Matplotlib.\n"
   ]
  },
  {
   "cell_type": "markdown",
   "metadata": {},
   "source": [
    "As usual, we will start by importing the packages we will be using for this lab."
   ]
  },
  {
   "cell_type": "code",
   "execution_count": null,
   "metadata": {},
   "outputs": [],
   "source": [
    "%matplotlib inline \n",
    "\n",
    "import pandas as pd\n",
    "import numpy as np\n",
    "import matplotlib.pyplot as plt\n",
    "import seaborn as sns"
   ]
  },
  {
   "cell_type": "markdown",
   "metadata": {},
   "source": [
    "## Basic matplotlib functionality"
   ]
  },
  {
   "cell_type": "markdown",
   "metadata": {},
   "source": [
    "In cognitive science, like in other sciences, we care about the relationships\n",
    "between at least two variables. For example, we may ask questions like: \n",
    "- How does a person's mood change as a function of time of day? \n",
    "- How does the temperature change as a function of sunlight? \n",
    "- How does the perceived color of an object change as a function of the color of its\n",
    "background? \n",
    "These are all questions about how one variable changes as another one\n",
    "changes.\n",
    "\n",
    "Thus, one of the simplest kinds of visualizations involves plotting \n",
    "the relationships between two variables. Lets call one variable (the independent variable)\n",
    "$x$ and the other variable (the dependent variable) $y$. Matplotlib provides\n",
    "straightforward functionality for plotting the relationship between two variables\n",
    "by using the `plt.plot` function, as shown in the next cell."
   ]
  },
  {
   "cell_type": "code",
   "execution_count": null,
   "metadata": {},
   "outputs": [],
   "source": [
    "xs = [0.0, 0.53, 1.05, 1.58, 2.11, 2.63, 3.16, 3.68, 4.21, 4.74, 5.26, 5.79, 6.32, 6.84, 7.37, 7.89, 8.42, 8.95, 9.47, 10.0]\n",
    "ys = [0.0, 0.5, 0.87, 1.0, 0.86, 0.49, -0.02, -0.52, -0.88, -1.0, -0.85, -0.47, 0.03, 0.53, 0.88, 1.0, 0.84, 0.46, -0.05, -0.54]\n",
    "plt.plot(xs, ys)"
   ]
  },
  {
   "cell_type": "markdown",
   "metadata": {},
   "source": [
    "The simplest way to use the `plt.plot` function is to provide it with\n",
    "two arguments corresponding to the x and y coordinates of different points.\n",
    "By default, it creates a plot in which these points are connected by a blue line,\n",
    "but we can change this formatting by passing in a format string that specifies the\n",
    "color and style of the plot as a third argument."
   ]
  },
  {
   "cell_type": "code",
   "execution_count": null,
   "metadata": {},
   "outputs": [],
   "source": [
    "plt.plot(xs, ys, 'r') # red line"
   ]
  },
  {
   "cell_type": "code",
   "execution_count": null,
   "metadata": {},
   "outputs": [],
   "source": [
    "plt.plot(xs, ys, 'g--') # green dashed line"
   ]
  },
  {
   "cell_type": "code",
   "execution_count": null,
   "metadata": {},
   "outputs": [],
   "source": [
    "plt.plot(xs, ys, 'bo') # blue circles"
   ]
  },
  {
   "cell_type": "markdown",
   "metadata": {},
   "source": [
    "<div class=\"alert alert-info\">\n",
    "<b>Test your understanding</b>: The previous example generated plots that looked \n",
    "like a sine wave and is most naturally plotted as a line. \n",
    "But not all data makes sense as a line! Can you think of examples of data \n",
    "that would be better shown as a <b>scatter plot</b> rather than a <b>line plot</b>?\n",
    "What kinds of data are most naturally shown with a line?\n",
    "</div>"
   ]
  },
  {
   "cell_type": "markdown",
   "metadata": {},
   "source": [
    "## Basic seaborn functionality"
   ]
  },
  {
   "cell_type": "markdown",
   "metadata": {},
   "source": [
    "Matplotlib is a powerful, flexible library that gives you fine-grained control \n",
    "over every detail of your plots. However, making plots look polished often \n",
    "requires writing a lot of extra code (choosing colors, adjusting labels, \n",
    "formatting styles). Seaborn is built on top of Matplotlib and is designed to \n",
    "make statistical data visualization easier and more attractive out of the box.\n",
    "\n",
    "In the next few cells, we will look at how to plot lineplots and scatterplots\n",
    "using seaborn instead of matplotlib directly."
   ]
  },
  {
   "cell_type": "code",
   "execution_count": null,
   "metadata": {},
   "outputs": [],
   "source": [
    "sns.lineplot(x=xs, y=ys)"
   ]
  },
  {
   "cell_type": "code",
   "execution_count": null,
   "metadata": {},
   "outputs": [],
   "source": [
    "sns.scatterplot(x=xs, y=ys)"
   ]
  },
  {
   "cell_type": "markdown",
   "metadata": {},
   "source": [
    "In the previous cells, we recreated the same plots using seaborn that we \n",
    "created with matplotlib, but the real power of seaborn comes from how it\n",
    "interacts with pandas dataframes. In the next cell, we are going to\n",
    "create a pandas dataframe from our x and y data, but label them\n",
    "as corresponding to, say, time of day and alertness. Then we are going to \n",
    "re-plot them."
   ]
  },
  {
   "cell_type": "code",
   "execution_count": null,
   "metadata": {},
   "outputs": [],
   "source": [
    "df = pd.DataFrame({'time_of_day': xs, 'alertness': ys})"
   ]
  },
  {
   "cell_type": "code",
   "execution_count": null,
   "metadata": {},
   "outputs": [],
   "source": [
    "sns.lineplot(data=df, x='time_of_day', y='alertness')"
   ]
  },
  {
   "cell_type": "code",
   "execution_count": null,
   "metadata": {},
   "outputs": [],
   "source": [
    "sns.scatterplot(data=df, x='time_of_day', y='alertness')"
   ]
  },
  {
   "cell_type": "markdown",
   "metadata": {},
   "source": [
    "<div class=\"alert alert-info\">\n",
    "<b>Test your understanding</b>: In the previous cells, we passed in a\n",
    "DataFrame with labeled columns (`time_of_day` and `alertness`) rather than\n",
    "raw x/y values and seaborn generated a simple plot with the appropriate\n",
    "axis labels. One way to view seaborn is that it provides a \"layer of abstraction\" \n",
    "around matplotlib that interacts with pandas dataframes and makes it easier \n",
    "to create scientific plots. \n",
    "\n",
    "Knowing that many users work with pandas DataFrames, \n",
    "what are some other features or conveniences a library like seaborn could \n",
    "provide to make plotting even smoother? You can even take a look at the seaborn\n",
    "[gallery](https://seaborn.pydata.org/examples/index.html) for inspiration.\n",
    "</div>"
   ]
  },
  {
   "cell_type": "markdown",
   "metadata": {},
   "source": [
    "## Grouping with Seaborn"
   ]
  },
  {
   "cell_type": "markdown",
   "metadata": {},
   "source": [
    "In the next few cells, we will explore how Seaborn makes it easy to create plots based on grouping data. Grouping means splitting your dataset into subcategories (for example, by gender, treatment group, time period, or experimental condition) and then plotting those groups together in a single visualization.\n",
    "\n",
    "Seaborn handles grouping very naturally because it understands categorical variables in a pandas DataFrame. Instead of manually filtering data and plotting one group at a time (as you would often need to do in raw Matplotlib), you can simply pass a column name to Seaborn’s hue, style, or size arguments, and it will automatically assign different colors, shapes, or line sizes bsed on groups."
   ]
  },
  {
   "cell_type": "code",
   "execution_count": null,
   "metadata": {},
   "outputs": [],
   "source": [
    "# First, lets load the salary data into a pandas dataframe\n",
    "df = pd.read_csv(\n",
    "    \"https://markkho.github.io/nyu_lab_in_cognition/data/salary.csv\",\n",
    "    sep=\",\",\n",
    "    header=\"infer\",\n",
    ")"
   ]
  },
  {
   "cell_type": "code",
   "execution_count": null,
   "metadata": {},
   "outputs": [],
   "source": [
    "# We always want to quickly examine the data after loading it\n",
    "df"
   ]
  },
  {
   "cell_type": "code",
   "execution_count": null,
   "metadata": {},
   "outputs": [],
   "source": [
    "# To start, let's create a simple scatterplot of age vs. salary\n",
    "sns.scatterplot(data=df, x=\"age\", y=\"salary\")"
   ]
  },
  {
   "cell_type": "code",
   "execution_count": null,
   "metadata": {},
   "outputs": [],
   "source": [
    "# Now, let's add a grouping variable to see how age and salary varies by department\n",
    "sns.scatterplot(data=df, x=\"age\", y=\"salary\", hue='departm')"
   ]
  },
  {
   "cell_type": "code",
   "execution_count": null,
   "metadata": {},
   "outputs": [],
   "source": [
    "# Here, we use lmplot to add regression lines for each department\n",
    "# The ci=None argument removes the confidence interval shading around each line\n",
    "sns.lmplot(data=df, x=\"age\", y=\"salary\", hue='departm', ci=None)"
   ]
  },
  {
   "cell_type": "markdown",
   "metadata": {},
   "source": [
    "<div class=\"alert alert-info\">\n",
    "<b>Test your understanding</b>\n",
    "\n",
    "Seaborn has additional functions for\n",
    "plotting data besides scatterplot, for instance, we earlier used `sns.lineplot`.\n",
    "What happens if you try to plot the age/salary data with `sns.lineplot`? \n",
    "Try plotting the data using\n",
    "[sns.boxplot()](https://seaborn.pydata.org/generated/seaborn.boxplot.html) \n",
    "and [sns.violinplot()](https://seaborn.pydata.org/generated/seaborn.violinplot.html)\n",
    "where the x axis is department and y axis is salary or publications. \n",
    "What do you find? Which of these ways of visualizing the data is best?\n",
    "</div>"
   ]
  },
  {
   "cell_type": "code",
   "execution_count": null,
   "metadata": {},
   "outputs": [],
   "source": [
    "# your code should go here "
   ]
  }
 ],
 "metadata": {
  "anaconda-cloud": {},
  "kernel_info": {
   "name": "python3"
  },
  "kernelspec": {
   "display_name": "flippy",
   "language": "python",
   "name": "python3"
  },
  "language_info": {
   "codemirror_mode": {
    "name": "ipython",
    "version": 3
   },
   "file_extension": ".py",
   "mimetype": "text/x-python",
   "name": "python",
   "nbconvert_exporter": "python",
   "pygments_lexer": "ipython3",
   "version": "3.12.11"
  },
  "nteract": {
   "version": "0.15.0"
  },
  "toc": {
   "base_numbering": 1,
   "nav_menu": {
    "height": "44px",
    "width": "252px"
   },
   "number_sections": true,
   "sideBar": true,
   "skip_h1_title": false,
   "title_cell": "Table of Contents",
   "title_sidebar": "Contents",
   "toc_cell": false,
   "toc_position": {},
   "toc_section_display": "block",
   "toc_window_display": true
  }
 },
 "nbformat": 4,
 "nbformat_minor": 2
}
