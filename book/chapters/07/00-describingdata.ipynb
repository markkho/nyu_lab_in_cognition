{
 "cells": [
  {
   "cell_type": "code",
   "execution_count": null,
   "metadata": {
    "tags": [
     "remove-input"
    ]
   },
   "outputs": [],
   "source": [
    "from myst_nb import glue # for the Jupyter book chapter"
   ]
  },
  {
   "cell_type": "markdown",
   "metadata": {},
   "source": [
    "# Describing Data\n",
    "\n",
    "```{note}\n",
    "This chapter by [Todd M. Gureckis](https://gureckislab.org/~gureckis) and is released under the [license for this book](../../LICENSE). Elements of this chapter are adapted from Matthew Crump's excellent [Answering questions with data](https://crumplab.github.io/statistics/) book {cite}`Crump2019` which also draws from from Danielle Navarro's excellent [Learning Statistics with R](https://learningstatisticswithr.com) book {cite}`Navarro2011`.  One major change is the code was adapted to use python and jupyter.  In addition the introduction was replaced/shortened.  A chapter on descriptive statistics and correlation were merged.\n",
    "```\n",
    "\n",
    "We previously considered ways to visualize data using computer graphics.  Visualizations help us see patterns in data and to verify our understanding.  Visualization also sometimes help to summarize data in a more compact form than looking at the raw data.  However, in some cases it is more precise to summarize our data using numbers which we call **descriptive statistics**.  \n",
    "\n",
    "Descriptive statistics are probably the simplest and most straightforward aspect of statistical data analysis.  We are simplying taking a collection of numbers and computing a new number which summarizes the data in some way.  There are many different descriptive statistics and which is most appropriate depends a lot on the nature of the data and what you want to communicate about the data to others.  Simply put, a descriptive statistic is a number, computed on a collection of numbers (i.e., data), that captures something important about the data.  \n",
    "\n",
    "<div style=\"text-align: center\">\n",
    "    <img src=\"./images/descriptivestats.png\" width=\"500\">\n",
    "</div>\n",
    "\n",
    "Academic papers in psychology are littered with descriptive statistics even if inferential statistics (things we will discuss later) end up being the \"flashiest\" findings.  We need descriptive statistics to tell readers of our papers or audience members at our talks/posters what basically went on in a dataset without showing them all of the data or giving too many plots/visualizations.  Descriptive statistics tend to be quick, easy-to-convey summaries.  In addition, since they are usually numbers, they admit easy comparison to one another.\n",
    "\n",
    "There are lots of different descriptive statistics.  The one you are perhaps most familiar with is the arithmetic average or _mean_ (e.g., when you compute your average grade for the class it summarizes your performance in the class across many different assignments).  However there are many others we will discuss, and in fact it is possible to compute new statistics yourself!  \n",
    "\n",
    "Most of the statistical concepts in this chapter should be review if you have taken an introductory statistics course in psychology.  What you will learn by reading carefully is how to easily compute descriptive statistics for different datasets using Python and Pandas, a review of the merits and meaning of various statistics, and how to report them in papers and talks."
   ]
  },
  {
   "cell_type": "markdown",
   "metadata": {},
   "source": [
    "## Example Dataset"
   ]
  },
  {
   "cell_type": "markdown",
   "metadata": {},
   "source": [
    "We begin by loading an example dataset into a Pandas dataframe that we will use as an example throughout this chapter.  "
   ]
  },
  {
   "cell_type": "code",
   "execution_count": 2,
   "metadata": {},
   "outputs": [],
   "source": [
    "import numpy as np\n",
    "import pandas as pd\n",
    "import seaborn as sns\n",
    "import matplotlib.pyplot as plt\n",
    "\n",
    "%matplotlib inline"
   ]
  },
  {
   "cell_type": "code",
   "execution_count": 3,
   "metadata": {},
   "outputs": [],
   "source": [
    "df = pd.read_csv('https://tinyurl.com/yya6yyt8')"
   ]
  },
  {
   "cell_type": "markdown",
   "metadata": {},
   "source": [
    "```{admonition} About the data\n",
    ":class: tip\n",
    "\n",
    "The data are from the [OMNI](https://gureckislab.org/research/omni/) project, which examines how people learn and forget information.  In this specific dataset a set of participants studied a list of 45 Lithuanian-English vocabulary words five times for each word.  Immediately after study, participant gave each word pair a \"judgement-of-learning\" (JOL) rating of how likely they felt they would remember this pair at a later test.  They then came back for a test session several hours later (depending on a between-subject condition) and were presented with the Lithuanian word of each pair and asked to type in the corresponding English word.\n",
    "\n",
    "The columns of the dataset are as follows:\n",
    "\n",
    "* `delay_group`: the approximate time betwen the study to recall test for this participant (Note that the exact time between study and test for a particular person should be obtained from the included timestamps)\n",
    "    * A: immediate recall after end of study and JOL blocks\n",
    "    * C: 24h study-recall lag\n",
    "    * E: 48h study-recall lag (n = 1, due to an error)\n",
    "    * F: 72h study-recall lag\n",
    "    * PRISMAF: 72h study-recall lag (study session in an MRI scanner)\n",
    "    * H: 168h study-recall lag\n",
    "   \n",
    "   \n",
    "* `participant_id`: unique identifier for each participant (delay-group + numeric)\n",
    "\n",
    "\n",
    "* `lith_word_studied`: the lithuanian word in a studied pair\n",
    "\n",
    "\n",
    "* `eng_word_studied`: the english word in a studied pair\n",
    "\n",
    "\n",
    "* `studyN_start`: a numeric timestamp in seconds for the start time of study trial N  (Note that all study events were four seconds duration)\n",
    "\n",
    "\n",
    "* `jol_start`: a numeric timestamp in seconds for the start time of the JOL trial\n",
    "\n",
    "\n",
    "* `recall_trial`: a numeric timestamp in seconds for the start time of the recall trial\n",
    "\n",
    "\n",
    "* `jol_value`: numeric responses from 0-100 indicating confidence that a given word will be remembered\n",
    "\n",
    "\n",
    "* `eng_word_response`: the participant's english response for a given recall test trial\n",
    "\n",
    "\n",
    "* `recall_accuracy`: the participant's recall accuracy\n",
    "\n",
    "\n",
    "* `study_test_lag`: the time between the 5th study repetition and the recall trial for the given word\n",
    "```"
   ]
  },
  {
   "cell_type": "markdown",
   "metadata": {},
   "source": [
    "We can first verify the columns and type of data within each column of the loaded dataframe."
   ]
  },
  {
   "cell_type": "code",
   "execution_count": 4,
   "metadata": {},
   "outputs": [
    {
     "data": {
      "text/html": [
       "<div>\n",
       "<style scoped>\n",
       "    .dataframe tbody tr th:only-of-type {\n",
       "        vertical-align: middle;\n",
       "    }\n",
       "\n",
       "    .dataframe tbody tr th {\n",
       "        vertical-align: top;\n",
       "    }\n",
       "\n",
       "    .dataframe thead th {\n",
       "        text-align: right;\n",
       "    }\n",
       "</style>\n",
       "<table border=\"1\" class=\"dataframe\">\n",
       "  <thead>\n",
       "    <tr style=\"text-align: right;\">\n",
       "      <th></th>\n",
       "      <th>lith_word_studied</th>\n",
       "      <th>eng_word_studied</th>\n",
       "      <th>participant_id</th>\n",
       "      <th>delay_group</th>\n",
       "      <th>study1_start</th>\n",
       "      <th>study2_start</th>\n",
       "      <th>study3_start</th>\n",
       "      <th>study4_start</th>\n",
       "      <th>study5_start</th>\n",
       "      <th>jol_start</th>\n",
       "      <th>recall_start</th>\n",
       "      <th>jol_value</th>\n",
       "      <th>eng_word_response</th>\n",
       "      <th>recall_accuracy</th>\n",
       "      <th>study_test_lag</th>\n",
       "    </tr>\n",
       "  </thead>\n",
       "  <tbody>\n",
       "    <tr>\n",
       "      <th>0</th>\n",
       "      <td>pastatas</td>\n",
       "      <td>building</td>\n",
       "      <td>A1</td>\n",
       "      <td>A</td>\n",
       "      <td>1461597222</td>\n",
       "      <td>1461598097</td>\n",
       "      <td>1461598653</td>\n",
       "      <td>1461599383</td>\n",
       "      <td>1461599951</td>\n",
       "      <td>1461600711</td>\n",
       "      <td>1461601222</td>\n",
       "      <td>100</td>\n",
       "      <td>building</td>\n",
       "      <td>1</td>\n",
       "      <td>21.183333</td>\n",
       "    </tr>\n",
       "    <tr>\n",
       "      <th>1</th>\n",
       "      <td>mesa</td>\n",
       "      <td>meat</td>\n",
       "      <td>A1</td>\n",
       "      <td>A</td>\n",
       "      <td>1461597234</td>\n",
       "      <td>1461598070</td>\n",
       "      <td>1461598710</td>\n",
       "      <td>1461599353</td>\n",
       "      <td>1461599975</td>\n",
       "      <td>1461600707</td>\n",
       "      <td>1461601232</td>\n",
       "      <td>100</td>\n",
       "      <td>meat</td>\n",
       "      <td>1</td>\n",
       "      <td>20.950000</td>\n",
       "    </tr>\n",
       "    <tr>\n",
       "      <th>2</th>\n",
       "      <td>kreida</td>\n",
       "      <td>chalk</td>\n",
       "      <td>A1</td>\n",
       "      <td>A</td>\n",
       "      <td>1461597248</td>\n",
       "      <td>1461598054</td>\n",
       "      <td>1461598669</td>\n",
       "      <td>1461599403</td>\n",
       "      <td>1461599965</td>\n",
       "      <td>1461600699</td>\n",
       "      <td>1461601238</td>\n",
       "      <td>75</td>\n",
       "      <td>sword</td>\n",
       "      <td>0</td>\n",
       "      <td>21.216667</td>\n",
       "    </tr>\n",
       "    <tr>\n",
       "      <th>3</th>\n",
       "      <td>bugnas</td>\n",
       "      <td>drum</td>\n",
       "      <td>A1</td>\n",
       "      <td>A</td>\n",
       "      <td>1461597262</td>\n",
       "      <td>1461598085</td>\n",
       "      <td>1461598683</td>\n",
       "      <td>1461599393</td>\n",
       "      <td>1461599985</td>\n",
       "      <td>1461600719</td>\n",
       "      <td>1461601235</td>\n",
       "      <td>100</td>\n",
       "      <td>drum</td>\n",
       "      <td>1</td>\n",
       "      <td>20.833333</td>\n",
       "    </tr>\n",
       "    <tr>\n",
       "      <th>4</th>\n",
       "      <td>muilas</td>\n",
       "      <td>soap</td>\n",
       "      <td>A1</td>\n",
       "      <td>A</td>\n",
       "      <td>1461597274</td>\n",
       "      <td>1461598111</td>\n",
       "      <td>1461598700</td>\n",
       "      <td>1461599369</td>\n",
       "      <td>1461599995</td>\n",
       "      <td>1461600716</td>\n",
       "      <td>1461601249</td>\n",
       "      <td>100</td>\n",
       "      <td>soap</td>\n",
       "      <td>1</td>\n",
       "      <td>20.900000</td>\n",
       "    </tr>\n",
       "  </tbody>\n",
       "</table>\n",
       "</div>"
      ],
      "text/plain": [
       "  lith_word_studied eng_word_studied participant_id delay_group  study1_start  \\\n",
       "0          pastatas         building             A1           A    1461597222   \n",
       "1              mesa             meat             A1           A    1461597234   \n",
       "2            kreida            chalk             A1           A    1461597248   \n",
       "3            bugnas             drum             A1           A    1461597262   \n",
       "4            muilas             soap             A1           A    1461597274   \n",
       "\n",
       "   study2_start  study3_start  study4_start  study5_start   jol_start  \\\n",
       "0    1461598097    1461598653    1461599383    1461599951  1461600711   \n",
       "1    1461598070    1461598710    1461599353    1461599975  1461600707   \n",
       "2    1461598054    1461598669    1461599403    1461599965  1461600699   \n",
       "3    1461598085    1461598683    1461599393    1461599985  1461600719   \n",
       "4    1461598111    1461598700    1461599369    1461599995  1461600716   \n",
       "\n",
       "   recall_start  jol_value eng_word_response  recall_accuracy  study_test_lag  \n",
       "0    1461601222        100          building                1       21.183333  \n",
       "1    1461601232        100              meat                1       20.950000  \n",
       "2    1461601238         75             sword                0       21.216667  \n",
       "3    1461601235        100              drum                1       20.833333  \n",
       "4    1461601249        100              soap                1       20.900000  "
      ]
     },
     "execution_count": 4,
     "metadata": {},
     "output_type": "execute_result"
    }
   ],
   "source": [
    "df.head()"
   ]
  },
  {
   "cell_type": "markdown",
   "metadata": {},
   "source": [
    "We will start with a very simple and broad approach to computing descriptive statistics using the `.describe()` method of Pandas.  This function computes several descriptive statistics for each column of a dataset.  Which statistics are computed in the output depends somewhat on the nature of the dataset."
   ]
  },
  {
   "cell_type": "code",
   "execution_count": 5,
   "metadata": {},
   "outputs": [
    {
     "data": {
      "text/html": [
       "<div>\n",
       "<style scoped>\n",
       "    .dataframe tbody tr th:only-of-type {\n",
       "        vertical-align: middle;\n",
       "    }\n",
       "\n",
       "    .dataframe tbody tr th {\n",
       "        vertical-align: top;\n",
       "    }\n",
       "\n",
       "    .dataframe thead th {\n",
       "        text-align: right;\n",
       "    }\n",
       "</style>\n",
       "<table border=\"1\" class=\"dataframe\">\n",
       "  <thead>\n",
       "    <tr style=\"text-align: right;\">\n",
       "      <th></th>\n",
       "      <th>study1_start</th>\n",
       "      <th>study2_start</th>\n",
       "      <th>study3_start</th>\n",
       "      <th>study4_start</th>\n",
       "      <th>study5_start</th>\n",
       "      <th>jol_start</th>\n",
       "      <th>recall_start</th>\n",
       "      <th>jol_value</th>\n",
       "      <th>recall_accuracy</th>\n",
       "      <th>study_test_lag</th>\n",
       "    </tr>\n",
       "  </thead>\n",
       "  <tbody>\n",
       "    <tr>\n",
       "      <th>count</th>\n",
       "      <td>8.550000e+03</td>\n",
       "      <td>8.550000e+03</td>\n",
       "      <td>8.550000e+03</td>\n",
       "      <td>8.550000e+03</td>\n",
       "      <td>8.550000e+03</td>\n",
       "      <td>8.550000e+03</td>\n",
       "      <td>8.550000e+03</td>\n",
       "      <td>8550.000000</td>\n",
       "      <td>8550.000000</td>\n",
       "      <td>8550.000000</td>\n",
       "    </tr>\n",
       "    <tr>\n",
       "      <th>mean</th>\n",
       "      <td>1.481107e+09</td>\n",
       "      <td>1.481108e+09</td>\n",
       "      <td>1.481109e+09</td>\n",
       "      <td>1.481109e+09</td>\n",
       "      <td>1.481110e+09</td>\n",
       "      <td>1.481111e+09</td>\n",
       "      <td>1.481385e+09</td>\n",
       "      <td>61.665146</td>\n",
       "      <td>0.418129</td>\n",
       "      <td>4583.718248</td>\n",
       "    </tr>\n",
       "    <tr>\n",
       "      <th>std</th>\n",
       "      <td>1.244130e+07</td>\n",
       "      <td>1.244130e+07</td>\n",
       "      <td>1.244131e+07</td>\n",
       "      <td>1.244130e+07</td>\n",
       "      <td>1.244130e+07</td>\n",
       "      <td>1.244149e+07</td>\n",
       "      <td>1.248592e+07</td>\n",
       "      <td>31.876645</td>\n",
       "      <td>0.493280</td>\n",
       "      <td>3585.115929</td>\n",
       "    </tr>\n",
       "    <tr>\n",
       "      <th>min</th>\n",
       "      <td>1.461597e+09</td>\n",
       "      <td>1.461598e+09</td>\n",
       "      <td>1.461599e+09</td>\n",
       "      <td>1.461599e+09</td>\n",
       "      <td>1.461600e+09</td>\n",
       "      <td>1.461601e+09</td>\n",
       "      <td>1.461601e+09</td>\n",
       "      <td>0.000000</td>\n",
       "      <td>0.000000</td>\n",
       "      <td>10.050000</td>\n",
       "    </tr>\n",
       "    <tr>\n",
       "      <th>25%</th>\n",
       "      <td>1.471894e+09</td>\n",
       "      <td>1.471895e+09</td>\n",
       "      <td>1.471896e+09</td>\n",
       "      <td>1.471897e+09</td>\n",
       "      <td>1.471897e+09</td>\n",
       "      <td>1.471898e+09</td>\n",
       "      <td>1.472154e+09</td>\n",
       "      <td>37.000000</td>\n",
       "      <td>0.000000</td>\n",
       "      <td>1405.112500</td>\n",
       "    </tr>\n",
       "    <tr>\n",
       "      <th>50%</th>\n",
       "      <td>1.479028e+09</td>\n",
       "      <td>1.479029e+09</td>\n",
       "      <td>1.479030e+09</td>\n",
       "      <td>1.479030e+09</td>\n",
       "      <td>1.479031e+09</td>\n",
       "      <td>1.479032e+09</td>\n",
       "      <td>1.479421e+09</td>\n",
       "      <td>66.000000</td>\n",
       "      <td>0.000000</td>\n",
       "      <td>4268.191666</td>\n",
       "    </tr>\n",
       "    <tr>\n",
       "      <th>75%</th>\n",
       "      <td>1.488220e+09</td>\n",
       "      <td>1.488221e+09</td>\n",
       "      <td>1.488221e+09</td>\n",
       "      <td>1.488222e+09</td>\n",
       "      <td>1.488222e+09</td>\n",
       "      <td>1.488223e+09</td>\n",
       "      <td>1.488492e+09</td>\n",
       "      <td>91.000000</td>\n",
       "      <td>1.000000</td>\n",
       "      <td>9983.912500</td>\n",
       "    </tr>\n",
       "    <tr>\n",
       "      <th>max</th>\n",
       "      <td>1.516474e+09</td>\n",
       "      <td>1.516475e+09</td>\n",
       "      <td>1.516475e+09</td>\n",
       "      <td>1.516476e+09</td>\n",
       "      <td>1.516477e+09</td>\n",
       "      <td>1.516478e+09</td>\n",
       "      <td>1.516735e+09</td>\n",
       "      <td>100.000000</td>\n",
       "      <td>1.000000</td>\n",
       "      <td>11518.816670</td>\n",
       "    </tr>\n",
       "  </tbody>\n",
       "</table>\n",
       "</div>"
      ],
      "text/plain": [
       "       study1_start  study2_start  study3_start  study4_start  study5_start  \\\n",
       "count  8.550000e+03  8.550000e+03  8.550000e+03  8.550000e+03  8.550000e+03   \n",
       "mean   1.481107e+09  1.481108e+09  1.481109e+09  1.481109e+09  1.481110e+09   \n",
       "std    1.244130e+07  1.244130e+07  1.244131e+07  1.244130e+07  1.244130e+07   \n",
       "min    1.461597e+09  1.461598e+09  1.461599e+09  1.461599e+09  1.461600e+09   \n",
       "25%    1.471894e+09  1.471895e+09  1.471896e+09  1.471897e+09  1.471897e+09   \n",
       "50%    1.479028e+09  1.479029e+09  1.479030e+09  1.479030e+09  1.479031e+09   \n",
       "75%    1.488220e+09  1.488221e+09  1.488221e+09  1.488222e+09  1.488222e+09   \n",
       "max    1.516474e+09  1.516475e+09  1.516475e+09  1.516476e+09  1.516477e+09   \n",
       "\n",
       "          jol_start  recall_start    jol_value  recall_accuracy  \\\n",
       "count  8.550000e+03  8.550000e+03  8550.000000      8550.000000   \n",
       "mean   1.481111e+09  1.481385e+09    61.665146         0.418129   \n",
       "std    1.244149e+07  1.248592e+07    31.876645         0.493280   \n",
       "min    1.461601e+09  1.461601e+09     0.000000         0.000000   \n",
       "25%    1.471898e+09  1.472154e+09    37.000000         0.000000   \n",
       "50%    1.479032e+09  1.479421e+09    66.000000         0.000000   \n",
       "75%    1.488223e+09  1.488492e+09    91.000000         1.000000   \n",
       "max    1.516478e+09  1.516735e+09   100.000000         1.000000   \n",
       "\n",
       "       study_test_lag  \n",
       "count     8550.000000  \n",
       "mean      4583.718248  \n",
       "std       3585.115929  \n",
       "min         10.050000  \n",
       "25%       1405.112500  \n",
       "50%       4268.191666  \n",
       "75%       9983.912500  \n",
       "max      11518.816670  "
      ]
     },
     "execution_count": 5,
     "metadata": {},
     "output_type": "execute_result"
    }
   ],
   "source": [
    "df.describe()"
   ]
  },
  {
   "cell_type": "markdown",
   "metadata": {},
   "source": [
    "If you look at the rows of the resulting dataframe, they include the `count` (the number of rows in that column), `std` the standard deviaion of the values, `min` the minimum value in the column, `50%` which is the median (and `25%` and `75%` which show alternative quartiles), the `mean`, and the `max`.\n",
    "\n",
    "Also note that several columns in the original dataframe such as `participant_id` are missing from this output.  This is because the set of descriptive statistics here only apply to columns made up with real numbers (you can't take the mean of a string).  To get descriptive statistics for individual columns we can first _select_ a column and then do `.describe()`."
   ]
  },
  {
   "cell_type": "code",
   "execution_count": 6,
   "metadata": {},
   "outputs": [
    {
     "data": {
      "text/plain": [
       "count     8550\n",
       "unique     190\n",
       "top         A1\n",
       "freq        45\n",
       "Name: participant_id, dtype: object"
      ]
     },
     "execution_count": 6,
     "metadata": {},
     "output_type": "execute_result"
    }
   ],
   "source": [
    "df['participant_id'].describe()"
   ]
  },
  {
   "cell_type": "markdown",
   "metadata": {},
   "source": [
    "The statistics for discrete data include the number of rows (`count`), the number of unique values (`unique`), the most frequent value (`H47`), and the frequency of the most common elements (`freq`).  From this we can see there is 190 participants in this data set and 8550 trials."
   ]
  },
  {
   "cell_type": "markdown",
   "metadata": {},
   "source": [
    "The `.describe()` dataframe method is sort of the \"ultra-simple\" descriptive statistic function.  However as we will step through in the following sections there are specific methods for specific statistics as well as the ability to write your own custom descriptive statistics.  As one example `.mean()` computes the mean within each column (if the column is a number and not a string):"
   ]
  },
  {
   "cell_type": "code",
   "execution_count": 7,
   "metadata": {},
   "outputs": [
    {
     "data": {
      "text/plain": [
       "study1_start       1.481107e+09\n",
       "study2_start       1.481108e+09\n",
       "study3_start       1.481109e+09\n",
       "study4_start       1.481109e+09\n",
       "study5_start       1.481110e+09\n",
       "jol_start          1.481111e+09\n",
       "recall_start       1.481385e+09\n",
       "jol_value          6.166515e+01\n",
       "recall_accuracy    4.181287e-01\n",
       "study_test_lag     4.583718e+03\n",
       "dtype: float64"
      ]
     },
     "execution_count": 7,
     "metadata": {},
     "output_type": "execute_result"
    }
   ],
   "source": [
    "df.mean(numeric_only=True)"
   ]
  },
  {
   "cell_type": "markdown",
   "metadata": {},
   "source": [
    "## Measures of Central Tendency\n",
    "\n",
    "Measures of central tendency have one important summary goal: to reduce a pile of numbers to a single number that summarizes in some sense the average or typical value. Take a moment here to listen to this interesting National Public Radio [Planet Money](https://www.npr.org/sections/money/) podcast about \"the modal american,\" which discusses exactly how difficult it can be to compute the average or typical value of some population or dataset.  After you listen, test your understanding with the questions below.\n",
    "\n",
    "<iframe src=\"https://www.npr.org/player/embed/755191639/755262760\" width=\"100%\" height=\"290\" frameborder=\"0\" scrolling=\"no\" title=\"NPR embedded audio player\"></iframe>\n",
    "\n",
    "```{admonition} Test yourself: What is the median age of an American?\n",
    ":class: hint\n",
    "- 26\n",
    "- 38\n",
    "- 56\n",
    "- 78\n",
    "```\n",
    "```{admonition} Click the button to reveal the answer!\n",
    ":class: dropdown\n",
    "Around 5:52 in the podcast they discuss the distribution of ages in the American population, and the bimodal hump which is the Millenials (\"echo boomers\") and the Boomers.  The median age is 38 but their analysis shows that there are fewer Americans are this age.  The most common (modal) age is 26.\n",
    "```\n",
    "\n",
    "```{admonition} Test yourself: When they analyze data in terms of multiple traits and category \"buckets\" who was the modal American?\n",
    ":class: hint\n",
    "- a child, gen-z, unmarried, no college degree, unemployed\n",
    "- a college student, married, mid-20s\n",
    "- a retiree, late 60s, unmarried, college educated\n",
    "```\n",
    "```{admonition} Click the button to reveal the answer!\n",
    ":class: dropdown\n",
    "Around 13:47 in the podcast they discuss that all the children in the US fall into one of the categories because the categories were slanted towards adults (employed, college, etc...).\n",
    "The modal american in their analysis actually is male, gen-x, 39-54 years old, lives in the suburbs, did not complete college, is white, married, working full time, and has a household income \\$75-165k/year.  Partly because this middle age generation is more homogenous (generally working full-time, etc...) while older and younger generations have more varied work and marriage relationships.\n",
    "```\n",
    "\n",
    "Ok, with some of the trickiness of defining a central tendency for real data, let's look at the traditional statistics for this.\n",
    "\n",
    "\n",
    "### Mode\n",
    "\n",
    "The **mode** is the most frequently occurring number in your measurements. That is it. How do you find it? You have to count the number of times each number appears in your measure, then whichever one occurs the most, is the mode.\n",
    "\n",
    "> Example: 1 1 1 2 3 4 5 6\n",
    "\n",
    "The mode of the above set is 1, which occurs three times. Every other number only occurs once.\n",
    "\n",
    "OK fine. What happens here:\n",
    "\n",
    "> Example: 1 1 1 2 2 2 3 4 5 6\n",
    "\n",
    "Hmm, now 1 and 2 both occur three times each. What do we do? We say there are two modes, and they are 1 and 2.\n",
    "\n",
    "Why is the mode a measure of central tendency? Well, when we ask, \"what are my numbers like\", we can say, \"most of the number are, like a 1 (or whatever the mode is)\".\n",
    "\n",
    "Is the mode a good measure of central tendency? That depends on your numbers. For example, consider these numbers\n",
    "\n",
    "> 1 1 2 3 4 5 6 7 8 9\n",
    "\n",
    "Here, the mode is 1 again, because there are two 1s, and all of the other numbers occur once. But, are most of the numbers like, a 1. No, they are mostly not 1s. \n",
    "\n",
    "\n",
    "When is the mode a good summary of a set of data?  Well, generally the mode is useful for things that have a chance of repeating.  For instance since we usually think of people's age in whole numbers (36, 24, 56, etc...) then we can find the modal age to find the most common age.  However, it might make less sense on more fine-grained measurements.  For instance if you recorded the altitude of every US city to the closest millimeter it might not make sense to report the mode since at the scale of a millimeter maybe very few cities have the same value (and thus there are many modes with only one occurence).  As the podcast above points out that the mode is good for gauging \"who is most common/typical in a population\" and that is why talking about the \"modal american\" is an appealing statistical concept."
   ]
  },
  {
   "cell_type": "markdown",
   "metadata": {},
   "source": [
    "How do we compute the mode in Pandas.  Well you saw already that when you call `.describe()` on a column that has nominal (i.e., string data) it reports the most common value or mode.  You can request this statistic directly like this:"
   ]
  },
  {
   "cell_type": "code",
   "execution_count": 8,
   "metadata": {},
   "outputs": [
    {
     "data": {
      "text/plain": [
       "0    100\n",
       "Name: jol_value, dtype: int64"
      ]
     },
     "execution_count": 8,
     "metadata": {},
     "output_type": "execute_result"
    }
   ],
   "source": [
    "df['jol_value'].mode()"
   ]
  },
  {
   "cell_type": "markdown",
   "metadata": {},
   "source": [
    "This shows us that 100 is the most common judgment of learning (JOL) rating that people gave overall.  If we ask for the modal `participant_id`, that is the id of the subject with the most trials in the data frame (i.e., they appear in the most rows).  However, since all subjects had exactly 45 trials there are multiple modes in the participant id column.  In fact if we run that command we get 190 different modes each picking out a different subject with 45 trials."
   ]
  },
  {
   "cell_type": "code",
   "execution_count": 9,
   "metadata": {},
   "outputs": [
    {
     "data": {
      "text/plain": [
       "0             A1\n",
       "1            A10\n",
       "2            A11\n",
       "3            A12\n",
       "4            A13\n",
       "         ...    \n",
       "185    PRISMAF28\n",
       "186    PRISMAF29\n",
       "187    PRISMAF30\n",
       "188    PRISMAF31\n",
       "189    PRISMAF32\n",
       "Name: participant_id, Length: 190, dtype: object"
      ]
     },
     "execution_count": 9,
     "metadata": {},
     "output_type": "execute_result"
    }
   ],
   "source": [
    "df['participant_id'].mode()"
   ]
  },
  {
   "cell_type": "markdown",
   "metadata": {},
   "source": [
    "The mode is the **value** which is most common.  Sometimes you want to know how often the modal value appears.  The `.value_counts()` function computes a tally of how often each value repeats in a list sorted from biggest to smallest. "
   ]
  },
  {
   "cell_type": "code",
   "execution_count": 10,
   "metadata": {},
   "outputs": [
    {
     "data": {
      "text/plain": [
       "jol_value\n",
       "100    1616\n",
       "50      370\n",
       "80      324\n",
       "90      308\n",
       "70      302\n",
       "       ... \n",
       "4        23\n",
       "3        22\n",
       "2        20\n",
       "17       20\n",
       "27       17\n",
       "Name: count, Length: 101, dtype: int64"
      ]
     },
     "execution_count": 10,
     "metadata": {},
     "output_type": "execute_result"
    }
   ],
   "source": [
    "df['jol_value'].value_counts()"
   ]
  },
  {
   "cell_type": "markdown",
   "metadata": {},
   "source": [
    " Thus the first entry of this series shows that the value 100 appears 1616 times.  It also shows the second most common rating is 50 which appears 370 times.  If you only want the count for the mode there a few tricks you could do, e.g., we can use `.iat[0]` to extract the first entry to the `.value_counts()`:"
   ]
  },
  {
   "cell_type": "code",
   "execution_count": 11,
   "metadata": {},
   "outputs": [
    {
     "data": {
      "text/plain": [
       "1616"
      ]
     },
     "execution_count": 11,
     "metadata": {},
     "output_type": "execute_result"
    }
   ],
   "source": [
    "df['jol_value'].value_counts().iat[0]"
   ]
  },
  {
   "cell_type": "markdown",
   "metadata": {},
   "source": [
    "### Median\n",
    "\n",
    "The **median** is the exact middle of the data. After all, we are asking about central tendency, so why not go to the center of the data and see where we are. What do you mean middle of the data? Let's look at these numbers:\n",
    "\n",
    "> 1 5 4 3 6 7 9\n",
    "\n",
    "Umm, OK. So, three is in the middle? Isn't that kind of arbitrary. Yes. Before we can compute the median, we need to order the numbers from smallest to largest.\n",
    "\n",
    "> 1 3 4 **5** 6 7 9\n",
    "\n",
    "Now, 5 is in the middle. And, by middle we mean in the middle. There are three numbers to the left of 5, and three numbers to the right. So, five is definitely in the middle.\n",
    "\n",
    "OK fine, but what happens when there aren't an odd number of numbers? Then the middle will be missing right? Let's see:\n",
    "\n",
    "> 1 2 3 4 5 6\n",
    "\n",
    "There is no number between 3 and 4 in the data, the middle is empty. In this case, we compute the median by figuring out the number in between 3 and 4. So, the median would be 3.5.\n",
    "\n",
    "Is the median a good measure of central tendency? Sure, it is often very useful. One property of the median is that it stays in the middle even when some of the other numbers get really weird. For example, consider these numbers:\n",
    "\n",
    "> 1 2 3 4 4 4 **5** 6 6 6 7 7 1000\n",
    "\n",
    "Most of these numbers are smallish, but the 1000 is a big old weird number, very different from the rest. The median is still 5, because it is in the middle of these ordered numbers. We can also see that five is pretty similar to most of the numbers (except for 1000). So, the median does a pretty good job of representing most of the numbers in the set, and it does so even if one or two of the numbers are very different from the others.\n",
    "\n",
    "Finally, **outlier** is a term will we use to describe numbers that appear in data that are very different from the rest. 1000 is an outlier, because it lies way out there on the number line compared to the other numbers. What to do with outliers is another topic we discuss later.\n",
    "\n"
   ]
  },
  {
   "cell_type": "markdown",
   "metadata": {},
   "source": [
    "We can compute the median of a single column just like we computed the mean using Pandas:"
   ]
  },
  {
   "cell_type": "code",
   "execution_count": 12,
   "metadata": {},
   "outputs": [
    {
     "data": {
      "text/plain": [
       "66.0"
      ]
     },
     "execution_count": 12,
     "metadata": {},
     "output_type": "execute_result"
    }
   ],
   "source": [
    "df['jol_value'].median()"
   ]
  },
  {
   "cell_type": "markdown",
   "metadata": {},
   "source": [
    "As you can see the median is quite different than the mode.  The most common JOL rating was 100 but the median is 66!"
   ]
  },
  {
   "cell_type": "markdown",
   "metadata": {},
   "source": [
    "### Mean\n",
    "\n",
    "Perhaps the most well-known measure of central tendency is the **mean** or arithmetic average.  It is best represented as a formula where we sum up the numbers then divide by the number of numbers:\n",
    "\n",
    "$Mean = \\bar{X} = \\frac{\\sum_{i=1}^{N} x_{i}}{N}$\n",
    "\n",
    "The $\\sum$ symbol is called **sigma**, and it stands for the operation of summing. The little \"i\" on the bottom will take on the indices of all the numbers in the set, ranging from the index \"1\" of the first number to the last number with index \"N\". The letters are just arbitrary labels, called **variables** that we use for descriptive purposes. The $x_{i}$ refers to individual numbers in the set. We sum up all of the numbers, then divide the sum by $N$, which is the total number of numbers. Sometimes you will see $\\bar{X}$ to refer to the mean of all of the numbers.\n",
    "\n",
    "In plain English, the formula looks like:\n",
    "\n",
    "$mean = \\frac{\\text{Sum of my numbers}}{\\text{Count of my numbers}}$\n",
    "\n",
    "Let's compute the mean for these five numbers:\n",
    "\n",
    "> 3 7 9 2 6\n",
    "\n",
    "Add em up:\n",
    "\n",
    "> 3+7+9+2+6 = 27\n",
    "\n",
    "Count em up:\n",
    "\n",
    "> $i_{1}$ = 3, $i_{2}$ = 7, $i_{3}$ = 9, $i_{4}$ = 2, $i_{5}$ = 6; N=5, because $i$ went from 1 to 5\n",
    "\n",
    "Divide em:\n",
    "\n",
    "> mean = 27 / 5 = 5.4\n",
    "\n",
    "Or, to put the numbers in the formula, it looks like this:\n",
    "\n",
    "$Mean = \\bar{X} = \\frac{\\sum_{i=1}^{N} x_{i}}{N} = \\frac{3+7+9+2+6}{5} = \\frac{27}{5} = 5.4$\n",
    "\n",
    "\n",
    "\n",
    "> Pro tip: The mean is the one and only number that can take the place of every number in the data, such that when you add up all N of these equal parts, you get back the original sum of the data.\n"
   ]
  },
  {
   "cell_type": "markdown",
   "metadata": {},
   "source": [
    "Computing the mean of a column in Pandas is trivial:"
   ]
  },
  {
   "cell_type": "code",
   "execution_count": 13,
   "metadata": {},
   "outputs": [
    {
     "data": {
      "text/plain": [
       "61.665146198830406"
      ]
     },
     "execution_count": 13,
     "metadata": {},
     "output_type": "execute_result"
    }
   ],
   "source": [
    "df['jol_value'].mean()"
   ]
  },
  {
   "cell_type": "markdown",
   "metadata": {},
   "source": [
    "or all columns:"
   ]
  },
  {
   "cell_type": "code",
   "execution_count": 14,
   "metadata": {},
   "outputs": [
    {
     "data": {
      "text/plain": [
       "study1_start       1.481107e+09\n",
       "study2_start       1.481108e+09\n",
       "study3_start       1.481109e+09\n",
       "study4_start       1.481109e+09\n",
       "study5_start       1.481110e+09\n",
       "jol_start          1.481111e+09\n",
       "recall_start       1.481385e+09\n",
       "jol_value          6.166515e+01\n",
       "recall_accuracy    4.181287e-01\n",
       "study_test_lag     4.583718e+03\n",
       "dtype: float64"
      ]
     },
     "execution_count": 14,
     "metadata": {},
     "output_type": "execute_result"
    }
   ],
   "source": [
    "df.mean(numeric_only=True)"
   ]
  },
  {
   "cell_type": "markdown",
   "metadata": {},
   "source": [
    "### Mean, median or mode? What's the difference? When should I use one or the other?\n",
    "\n",
    "```{figure} ./images/meanmedian.png\n",
    ":width: 500px\n",
    ":name: fig:meanmedian\n",
    "\n",
    "Illustration of the intuitive difference between the mean and median\n",
    "```\n",
    "\n",
    "Knowing how to calculate means and medians is only a part of the story. You also need to understand what each one is saying about the data, and what that implies for when you should use each one. This is illustrated in {numref}`fig:meanmedian`. The mean is kind of like the \"center of gravity\" of the data set, whereas the median is the \"middle value\" in the data. What this implies, as far as which one you should use, depends a little on what type of data you've got and what you're trying to achieve. As a rough guide:\n",
    " \n",
    "- If your data are nominal scale, you probably shouldn't be using either the mean or the median. Both the mean and the median rely on the idea that the numbers assigned to values are meaningful. If the numbering scheme is arbitrary, then it's probably best to use the mode instead. \n",
    "- If your data are ordinal scale, you're more likely to want to use the median than the mean. The median only makes use of the order information in your data (i.e., which numbers are bigger), but doesn't depend on the precise numbers involved. That's exactly the situation that applies when your data are ordinal scale. The mean, on the other hand, makes use of the precise numeric values assigned to the observations, so it's not really appropriate for ordinal data.\n",
    "- For data that lie on an interval or ratio scale, either one is generally acceptable. Which one you pick depends a bit on what you're trying to achieve. The mean has the advantage that it uses all the information in the data (which is useful when you don't have a lot of data), but it's very sensitive to extreme values.  \n",
    "\n",
    "\n",
    "Let's expand on that last part a little. One consequence is that there's systematic differences between the mean and the median when the histogram is asymmetric (also known as \"skewed\"). This is illustrated in {numref}`fig:meanmedian`. Notice that the median (right-hand side) is located closer to the \"body\" of the histogram, whereas the mean (left-hand side) gets dragged towards the \"tail\" (where the extreme values are). To give a concrete example, suppose Bob (income \\$50,000), Kate (income \\$60,000) and Jane (income \\$65,000) are sitting at a table: the average income at the table is \\$58,333 and the median income is \\$60,000. Then Bill sits down with them (income \\$100,000,000). The average income has now jumped to \\$25,043,750 but the median rises only to \\$62,500. If you're interested in looking at the overall income at the table, the mean might be the right answer; but if you're interested in what counts as a typical income at the table, the median would be a better choice here."
   ]
  },
  {
   "cell_type": "markdown",
   "metadata": {},
   "source": [
    "## Measures of variability\n",
    "\n",
    "The statistics that we've discussed so far all relate to *central tendency*. That is, they all talk about which values are \"in the middle\" or \"popular\" in the data. However, central tendency is not the only type of summary statistic that we want to calculate. The second thing that we really want is a measure of the **_variability_** of the data. That is, how \"spread out\" are the data? How \"far\" away from the mean or median do the observed values tend to be? \n",
    "\n",
    "### Range\n",
    "\n",
    "The **_range_** of a variable is very simple: it's the biggest value minus the smallest value. For the OMNI JOL data, the maximum value is 100, and the minimum value is 0. We can calculate these values in python using the `max()` and `min()` functions:"
   ]
  },
  {
   "cell_type": "code",
   "execution_count": 15,
   "metadata": {},
   "outputs": [
    {
     "data": {
      "text/plain": [
       "100"
      ]
     },
     "execution_count": 15,
     "metadata": {},
     "output_type": "execute_result"
    }
   ],
   "source": [
    "df['jol_value'].max()"
   ]
  },
  {
   "cell_type": "code",
   "execution_count": 16,
   "metadata": {},
   "outputs": [
    {
     "data": {
      "text/plain": [
       "0"
      ]
     },
     "execution_count": 16,
     "metadata": {},
     "output_type": "execute_result"
    }
   ],
   "source": [
    "df['jol_value'].min()"
   ]
  },
  {
   "cell_type": "code",
   "execution_count": 17,
   "metadata": {},
   "outputs": [
    {
     "data": {
      "text/plain": [
       "100"
      ]
     },
     "execution_count": 17,
     "metadata": {},
     "output_type": "execute_result"
    }
   ],
   "source": [
    "range_vals = df['jol_value'].max()-df['jol_value'].min()\n",
    "range_vals"
   ]
  },
  {
   "cell_type": "markdown",
   "metadata": {},
   "source": [
    "Although the range is the simplest way to quantify the notion of \"variability\", it's one of the worst. We generally want our summary measure to be \"robust\" to outliers. If the data set has one or two extremely weird values in it, we'd like our statistics not to be unduly influenced by these cases. If we look once again at our toy example of a data set containing very extreme outliers...\n",
    "\n",
    "$-100,2,3,4,5,6,7,8,9,10$\n",
    "\n",
    "... it is clear that the range is not robust, since this has a range of 110, but if the outlier were removed we would have a range of only 8.\n",
    "\n"
   ]
  },
  {
   "cell_type": "markdown",
   "metadata": {},
   "source": [
    "### Interquartile range\n",
    "\n",
    "The **_interquartile range_** (IQR) is like the range, but instead of calculating the difference between the biggest and smallest value, it calculates the difference between the 25th quantile and the 75th quantile. Probably you already know what a **_quantile_** is (they're more commonly called percentiles), but if not: the 10th percentile of a data set is the smallest number $x$ such that 10% of the data is less than $x$. In fact, we've already come across the idea: the median of a data set is its 50th quantile / percentile! Pandas actually provides you with a way of calculating quantiles, using the (surprise, surprise) `.quantile()` function. Let's use it to calculate the median JOL in the OMNI dataset:"
   ]
  },
  {
   "cell_type": "code",
   "execution_count": 18,
   "metadata": {},
   "outputs": [
    {
     "data": {
      "text/plain": [
       "66.0"
      ]
     },
     "execution_count": 18,
     "metadata": {},
     "output_type": "execute_result"
    }
   ],
   "source": [
    "df['jol_value'].median()"
   ]
  },
  {
   "cell_type": "code",
   "execution_count": 19,
   "metadata": {},
   "outputs": [
    {
     "data": {
      "text/plain": [
       "66.0"
      ]
     },
     "execution_count": 19,
     "metadata": {},
     "output_type": "execute_result"
    }
   ],
   "source": [
    "df['jol_value'].quantile(q=0.5)"
   ]
  },
  {
   "cell_type": "markdown",
   "metadata": {},
   "source": [
    "And not surprisingly, this agrees with the answer that we saw earlier with the `.median()` function. Now, we can actually input lots of quantiles at once, by specifying a list for the `probs` argument. So lets do that, and get the 25th and 75th percentile:"
   ]
  },
  {
   "cell_type": "code",
   "execution_count": 20,
   "metadata": {},
   "outputs": [
    {
     "data": {
      "text/plain": [
       "0.25    37.0\n",
       "0.75    91.0\n",
       "Name: jol_value, dtype: float64"
      ]
     },
     "execution_count": 20,
     "metadata": {},
     "output_type": "execute_result"
    }
   ],
   "source": [
    "df['jol_value'].quantile(q=[0.25,0.75])"
   ]
  },
  {
   "cell_type": "markdown",
   "metadata": {},
   "source": [
    "We can just subtract them to get the IQR:"
   ]
  },
  {
   "cell_type": "code",
   "execution_count": 21,
   "metadata": {},
   "outputs": [
    {
     "data": {
      "text/plain": [
       "54.0"
      ]
     },
     "execution_count": 21,
     "metadata": {},
     "output_type": "execute_result"
    }
   ],
   "source": [
    "iqr=df['jol_value'].quantile(q=0.75)-df['jol_value'].quantile(q=0.25)\n",
    "iqr"
   ]
  },
  {
   "cell_type": "markdown",
   "metadata": {},
   "source": [
    "While it's obvious how to interpret the range, it's a little less obvious how to interpret the IQR. The simplest way to think about it is like this: the interquartile range is the range spanned by the \"middle half\" of the data. That is, one quarter of the data falls below the 25th percentile, one quarter of the data is above the 75th percentile, leaving the \"middle half\" of the data lying in between the two. And the IQR is the range covered by that middle half."
   ]
  },
  {
   "cell_type": "markdown",
   "metadata": {},
   "source": [
    "### Variance \n",
    "\n",
    "The two measures we’ve looked at so far, the range and the interquartile range, both rely on the idea that we can measure the spread of the data by looking at the quantiles of the data. However, this isn’t the only way to think about the problem. A different approach is to select a meaningful reference point (usually the mean or the median) and then report the “typical” deviations from that reference point. What do we mean by “typical” deviation? Usually, the mean or median value of these deviations!\n",
    "\n",
    "[^variance1]: Well, I will very briefly mention the one that I think is coolest, for a very particular definition of \"cool\", that is. Variances are *additive*. Here's what that means: suppose I have two variables $X$ and $Y$, whose variances are $\\mathrm{Var}(X)$ and $\\mathrm{Var}(Y)$ respectively. Now imagine I want to define a new variable $Z$ that is the sum of the two, $Z = X+Y$. As it turns out, the variance of $Z$ is equal to $\\mathrm{Var}(X) + \\mathrm{Var}(Y)$. This is a *very* useful property, but it's not true of the other measures that I talk about in this section. Note that this property depends on $X$ and $Y$ being *independent*, which is a concept we haven't defined in this chapter.\n",
    "\n",
    "From a purely mathematical perspective, there are some solid reasons to prefer squared deviations rather than absolute deviations. If we do that, we obtain a measure is called the **_variance_**, which has a lot of really nice statistical properties that I'm going to ignore [^variance1], and one massive psychological flaw that I'm going to make a big deal out of in a moment. The variance of a data set $X$ is sometimes written as $\\mathrm{Var}(X)$, but it's more commonly denoted $s^2$ (the reason for this will become clearer shortly). The formula that we use to calculate the variance of a set of observations is as follows:\n",
    "\n",
    "$\\mathrm{Var}(X) = \\frac{\\sum_{i=1}^N \\left( x_i - \\bar{X} \\right)^2}{N}$\n",
    "\n",
    "The variance is sometimes referred to as the \"mean square deviation\" because it, well, is the average of the squared deviations from the mean.\n"
   ]
  },
  {
   "cell_type": "markdown",
   "metadata": {},
   "source": [
    "As you might expect by now computing the variance is quite simple in Pandas:"
   ]
  },
  {
   "cell_type": "code",
   "execution_count": 22,
   "metadata": {},
   "outputs": [
    {
     "data": {
      "text/plain": [
       "1016.1205186065405"
      ]
     },
     "execution_count": 22,
     "metadata": {},
     "output_type": "execute_result"
    }
   ],
   "source": [
    "df['jol_value'].var()"
   ]
  },
  {
   "cell_type": "markdown",
   "metadata": {},
   "source": [
    "We can double check whether this is the right formula by hand taking advantage of the ability of Pandas columns to \"broadcast\" over integers (see [here](../05/00-data.html#arithmetic) for a reminder):"
   ]
  },
  {
   "cell_type": "code",
   "execution_count": 23,
   "metadata": {},
   "outputs": [
    {
     "data": {
      "text/plain": [
       "1016.0016741014326"
      ]
     },
     "execution_count": 23,
     "metadata": {},
     "output_type": "execute_result"
    }
   ],
   "source": [
    "((df['jol_value']-df['jol_value'].mean())**2).mean()"
   ]
  },
  {
   "cell_type": "markdown",
   "metadata": {},
   "source": [
    "Oh, weird the numbers are not exactly the same!  What happened?  The reason is that Panda's `.var()` function gives you the **sample variance** by default which computes the formula for variance like this:\n",
    "\n",
    "$\\mathrm{Var}(X) = \\frac{\\sum_{i=1}^N \\left( x_i - \\bar{X} \\right)^2}{N-1}$"
   ]
  },
  {
   "cell_type": "markdown",
   "metadata": {},
   "source": [
    "We can force it to use the other formula by manually setting an argument `ddof=0`:"
   ]
  },
  {
   "cell_type": "code",
   "execution_count": 24,
   "metadata": {},
   "outputs": [
    {
     "data": {
      "text/plain": [
       "1016.0016741014402"
      ]
     },
     "execution_count": 24,
     "metadata": {},
     "output_type": "execute_result"
    }
   ],
   "source": [
    "df['jol_value'].var(ddof=0)"
   ]
  },
  {
   "cell_type": "markdown",
   "metadata": {},
   "source": [
    "Read more about the arguments to `.var()` [here](https://pandas.pydata.org/pandas-docs/stable/reference/api/pandas.DataFrame.var.html)."
   ]
  },
  {
   "cell_type": "markdown",
   "metadata": {},
   "source": [
    "So *why* is Python dividing by $N-1$ and not by $N$. After all, the variance is supposed to be the *mean* squared deviation, right? So shouldn't we be dividing by $N$, the actual number of observations in the sample? Well, yes, we should. However, as we'll discuss in an [upcoming chapter](../../chapters/08/02-estimation.html), there's a subtle distinction between \"describing a sample\" and \"making guesses about the population from which the sample came\". Up to this point, it's been a distinction without a difference. Regardless of whether you're describing a sample or drawing inferences about the population, the mean is calculated exactly the same way. Not so for the variance, or the standard deviation, or for many other measures besides. What I outlined to you initially (i.e., take the actual average, and thus divide by $N$) assumes that you literally intend to calculate the variance of the sample. Most of the time, however, you're not terribly interested in the sample *in and of itself*. Rather, the sample exists to tell you something about the world. If so, you're actually starting to move away from calculating a \"sample statistic\", and towards the idea of estimating a \"population parameter\". \n",
    "\n",
    "Okay, one last thing. This section so far has read a bit like a mystery novel. I've shown you how to calculate the variance, described the weird \"$N-1$\" thing that Pandas does and hinted at the reason why it's there, but I haven't mentioned the single most important thing... how do you *interpret* the variance? Descriptive statistics are supposed to describe things, after all, and right now the variance is really just a gibberish number. Unfortunately, the reason why I haven't given you the human-friendly interpretation of the variance is that there really isn't one. This is the most serious problem with the variance. Although it has some elegant mathematical properties that suggest that it really is a fundamental quantity for expressing variation, it's completely useless if you want to communicate with an actual human... variances are completely uninterpretable in terms of the original variable! All the numbers have been squared, and they don't mean anything anymore. This is a huge issue. For instance, just above we computed a judgment of learning variance of 1016. These responses (judgments of learning) range from 0 to 100, so what is this value 1016? Its units are in *confidence squared*! This is *exactly* as stupid as it sounds; and so when we calculate a variance of 1016, we have a quantity whose unit (squared confidence) is *not* a real unit of measurement, and since the variance is expressed in terms of this gibberish unit, it is totally meaningless to a human."
   ]
  },
  {
   "cell_type": "markdown",
   "metadata": {},
   "source": [
    "### Standard deviation\n",
    "\n",
    "Okay, suppose that you like the idea of using the variance because of those nice mathematical properties that I haven't talked about, but -- since you're a human and not a robot -- you'd like to have a measure that is expressed in the same units as the data itself (i.e., confidence, not confidence-squared). What should you do? The solution to the problem is obvious: take the square root of the variance, known as the **_standard deviation_**, also called the \"root mean squared deviation\", or RMSD. This solves our problem fairly neatly: while nobody has a clue what \"a variance of 1016 confidence-squared\" really means, it's much easier to understand \"a standard deviation of 31.9 confidence units\", since it's expressed in the original units. It is traditional to refer to the standard deviation of a sample of data as $s,$ though \"sd\" and \"std dev.\" are also used at times. Because the standard deviation is equal to the square root of the variance, you probably won't be surprised to see that the formula is:\n",
    "\n",
    "$s = \\sqrt{ \\frac{1}{N} \\sum_{i=1}^N \\left( x_i - \\bar{X} \\right)^2 }$\n",
    "\n",
    "and the Python function that we use to calculate it is `std()`. However, as you might have guessed from our discussion of the variance, what Python actually calculates is slightly different from the formula given above. Just like what we saw with the variance, what Python calculates is a version that divides by $N-1$ rather than $N$:\n",
    "\n",
    "$\\hat\\sigma = \\sqrt{ \\frac{1}{N-1} \\sum_{i=1}^N \\left( x_i - \\bar{X} \\right)^2 }$\n",
    "\n",
    "With that in mind, calculating standard deviations in Python is again simple:"
   ]
  },
  {
   "cell_type": "code",
   "execution_count": 25,
   "metadata": {},
   "outputs": [
    {
     "data": {
      "text/plain": [
       "31.876645347441134"
      ]
     },
     "execution_count": 25,
     "metadata": {},
     "output_type": "execute_result"
    }
   ],
   "source": [
    "df['jol_value'].std()"
   ]
  },
  {
   "cell_type": "code",
   "execution_count": 26,
   "metadata": {},
   "outputs": [
    {
     "data": {
      "text/plain": [
       "31.876645347441134"
      ]
     },
     "execution_count": 26,
     "metadata": {},
     "output_type": "execute_result"
    }
   ],
   "source": [
    "np.sqrt(df['jol_value'].var()) # notice same value!"
   ]
  },
  {
   "cell_type": "markdown",
   "metadata": {},
   "source": [
    "### Which measure to use?\n",
    "\n",
    "We've discussed quite a few measures of spread (range, IQR, variance and standard deviation), and hinted at their strengths and weaknesses. Here's a quick summary:\n",
    "\n",
    "\n",
    "- *Range*. Gives you the full spread of the data. It's very vulnerable to outliers, and as a consequence it isn't often used unless you have good reasons to care about the extremes in the data.\n",
    "- *Interquartile range*. Tells you where the \"middle half\" of the data sits. It's pretty robust, and complements the median nicely. This is used a lot.\n",
    "- *Variance*. Tells you the average squared deviation from the mean. It's mathematically elegant, and is probably the \"right\" way to describe variation around the mean, but it's completely uninterpretable because it doesn't use the same units as the data. Almost never used except as a mathematical tool; but it's buried \"under the hood\" of a very large number of statistical tools.\n",
    "- *Standard deviation*. This is the square root of the variance. It's fairly elegant mathematically, and it's expressed in the same units as the data so it can be interpreted pretty well. In situations where the mean is the measure of central tendency, this is the default. This is by far the most popular measure of variation. \n",
    "\n",
    "In short, the IQR and the standard deviation are easily the two most common measures used to report the variability of the data; but there are situations in which the others are used. I've described a few of them in this book because there's a fair chance you'll run into most of these somewhere."
   ]
  },
  {
   "cell_type": "markdown",
   "metadata": {},
   "source": [
    "## Remember to look at your data\n",
    "\n",
    "Descriptive statistics are great and we will use them a lot in the course to describe data. You may suspect that descriptive statistics also have some shortcomings. This is very true. They are compressed summaries of large piles of numbers. They will almost always be unable to represent all of the numbers fairly. There are also different kinds of descriptive statistics that you could use, and it sometimes not clear which ones you should use. \n",
    "\n",
    "Perhaps the most important thing you can do when using descriptive statistics is to use them in combination with looking at the data in a graph form (i.e., [visualization](../06/00-plots)). This can help you see whether or not your descriptive statistics are doing a good job of representing the data.  For instance remember the discussion from the previous chapter on [Anscombe's Quartet](../06/00-plots) where we were arguing that visualization provide an important check on the validity of various quantitative summaries of data {cite}`Anscombe1973`.  It is up to you to check that your descriptive statistics reflect the data in a faithful way.  What you might typically do in an analysis is compute descriptive statistics, plot your data, and then so long as everything seems reasonable report only the descriptive statistics in the paper except for the key/most important findings.\n",
    "\n",
    "```{note}\n",
    "If you thought that Anscombe's quartet was neat, you should take a look at the [Datasaurus Dozen](https://www.research.autodesk.com/publications/same-stats-different-graphs/) {cite}`matejka2017same`. Scroll down to see the examples. You will be looking at dot plots. The dot plots show many different patterns, including dinosaurs! What's amazing is that all of the dots have very nearly the same descriptive statistics. Just another reminder to look at your data, it might look like a dinosaur!\n",
    "```"
   ]
  },
  {
   "cell_type": "markdown",
   "metadata": {},
   "source": [
    "## Summarizing at different levels"
   ]
  },
  {
   "cell_type": "markdown",
   "metadata": {},
   "source": [
    "So far we have mostly examined how to apply descriptive statistics to the entire column of a dataframe.  However, often we want to apply descriptive statistics to smaller groups of data.  For instance consider the `recall_accuracy` column of the OMNI dataset we have been exploring in this chapter.  This is a 0/1 column coding if the person got a particular word correct at test.  Although we could computed the `.mean()` on this column to find the average accuracy of the entire group of subjects, there are several reasons we might not find that as useful.  First is that there are different participants in the dataset and we might be interested in the range of individual performances in the task.  In addition, there was an experimental condition: delay between study and test.  If you compute the mean of the entire `recall_accuracy` column, we will be obscuring how study-test delay might be influencing performance by putting all the data into one summary.  \n",
    "\n",
    "For this reason it is often that we want to apply descriptive statistics to sub-groups of data and then submit these values to further inspection, visualization, description, and analysis.  To do this we will combine a bit of what we learned in the previous chapter on the [Split-apply-combine](../05/00-data) workflow with the information we gained in this chapter about descriptive statistics."
   ]
  },
  {
   "cell_type": "markdown",
   "metadata": {},
   "source": [
    "For instance, let's say we are interested in average memory performance as a function of the delay condition the subjects were in.  One simple way to do this is using `.groupby()` to first group based on condition then to \"apply\" the mean function to each group:"
   ]
  },
  {
   "cell_type": "code",
   "execution_count": 27,
   "metadata": {},
   "outputs": [
    {
     "data": {
      "text/plain": [
       "delay_group\n",
       "A          0.613333\n",
       "C          0.524263\n",
       "E          0.222222\n",
       "F          0.424444\n",
       "H          0.248980\n",
       "PRISMAF    0.373545\n",
       "Name: recall_accuracy, dtype: float64"
      ]
     },
     "execution_count": 27,
     "metadata": {},
     "output_type": "execute_result"
    }
   ],
   "source": [
    "df.groupby(\"delay_group\")['recall_accuracy'].mean()"
   ]
  },
  {
   "cell_type": "markdown",
   "metadata": {},
   "source": [
    "This command does quite a lot so maybe we should step through it.  The first thing to recognize is that this command combines several steps using **chaining** where multiuple methods are computed in a sequence in a single line strung together by dots (`.`).  The first step does a `.groupby()` on the `delay_group` column.  If you remember from our earlier discussion of grouping this will form groups where each group contains all the rows that share the same value on the `delay_group` column (meaning that they were in the same condition).  Next you see the column indexing operation `['recall_accuracy']` which means we just pulled out the accuracy column.  Then we use `.mean()` to summarize the groups.  This results not in one mean but several, one for each group.  As we can see, performance was highest in the A group, which was the immediate-\n",
    "test condition.  Performance was low (~23\\%) in the E and H groups which were 48 hours or more of delay."
   ]
  },
  {
   "cell_type": "markdown",
   "metadata": {},
   "source": [
    "We can easily reorganize this for different analyses.  For instance, imagine we want to focus on group A but find how hard different words were.  For this we first select the A group then group by the word pair:"
   ]
  },
  {
   "cell_type": "code",
   "execution_count": 28,
   "metadata": {
    "tags": [
     "output_scroll"
    ]
   },
   "outputs": [
    {
     "data": {
      "text/plain": [
       "lith_word_studied\n",
       "akis         0.90\n",
       "arbata       0.95\n",
       "batas        0.70\n",
       "bugnas       0.65\n",
       "burna        0.70\n",
       "daina        0.60\n",
       "dirzas       0.50\n",
       "duona        0.65\n",
       "gelezis      0.40\n",
       "kamuolys     0.40\n",
       "karalius     0.50\n",
       "kardas       0.45\n",
       "kirvis       0.20\n",
       "knyga        0.70\n",
       "kreida       0.55\n",
       "kriaukle     0.35\n",
       "kumpis       0.55\n",
       "kunigas      0.50\n",
       "laikrodis    0.50\n",
       "laiptelis    0.45\n",
       "lietus       0.45\n",
       "lova         1.00\n",
       "masina       0.55\n",
       "mesa         0.95\n",
       "miestas      0.50\n",
       "mokykla      0.80\n",
       "muilas       0.70\n",
       "nafta        0.80\n",
       "padazas      0.20\n",
       "pastatas     0.90\n",
       "pinigine     0.30\n",
       "plyta        0.55\n",
       "pupa         0.85\n",
       "purvas       0.60\n",
       "rusys        0.75\n",
       "sausainis    0.75\n",
       "sesuo        0.90\n",
       "smegenys     0.70\n",
       "smuikas      0.25\n",
       "tiltas       0.75\n",
       "traukinys    0.90\n",
       "upe          0.85\n",
       "vaistas      0.30\n",
       "varpas       0.15\n",
       "zele         0.95\n",
       "Name: recall_accuracy, dtype: float64"
      ]
     },
     "execution_count": 28,
     "metadata": {},
     "output_type": "execute_result"
    }
   ],
   "source": [
    "df[df['delay_group']=='A'].groupby(\"lith_word_studied\")['recall_accuracy'].mean()"
   ]
  },
  {
   "cell_type": "markdown",
   "metadata": {},
   "source": [
    "In this analysis, we get a much longer list that shows the recall accuracy for each word pair in the experiment."
   ]
  },
  {
   "cell_type": "markdown",
   "metadata": {},
   "source": [
    "We can also group by multiple factors to see how word difficulty changes across the different conditions rather than focusing only on group A:"
   ]
  },
  {
   "cell_type": "code",
   "execution_count": 29,
   "metadata": {},
   "outputs": [
    {
     "data": {
      "text/plain": [
       "delay_group  lith_word_studied\n",
       "A            akis                 0.900000\n",
       "             arbata               0.950000\n",
       "             batas                0.700000\n",
       "             bugnas               0.650000\n",
       "             burna                0.700000\n",
       "                                    ...   \n",
       "PRISMAF      traukinys            0.380952\n",
       "             upe                  0.380952\n",
       "             vaistas              0.238095\n",
       "             varpas               0.238095\n",
       "             zele                 0.428571\n",
       "Name: recall_accuracy, Length: 270, dtype: float64"
      ]
     },
     "execution_count": 29,
     "metadata": {},
     "output_type": "execute_result"
    }
   ],
   "source": [
    "df.groupby([\"delay_group\",\"lith_word_studied\"])['recall_accuracy'].mean()"
   ]
  },
  {
   "cell_type": "markdown",
   "metadata": {},
   "source": [
    "The output for this one is too long, but we can do a few minor transformations of the data (using `.unstack()` to get rid of the heirarchical index, and `.transpose()` to swap the rows and columns), which gives us a nicer view of how each word varies across condition."
   ]
  },
  {
   "cell_type": "code",
   "execution_count": 30,
   "metadata": {
    "tags": [
     "output_scroll"
    ]
   },
   "outputs": [
    {
     "data": {
      "text/html": [
       "<div>\n",
       "<style scoped>\n",
       "    .dataframe tbody tr th:only-of-type {\n",
       "        vertical-align: middle;\n",
       "    }\n",
       "\n",
       "    .dataframe tbody tr th {\n",
       "        vertical-align: top;\n",
       "    }\n",
       "\n",
       "    .dataframe thead th {\n",
       "        text-align: right;\n",
       "    }\n",
       "</style>\n",
       "<table border=\"1\" class=\"dataframe\">\n",
       "  <thead>\n",
       "    <tr style=\"text-align: right;\">\n",
       "      <th>delay_group</th>\n",
       "      <th>A</th>\n",
       "      <th>C</th>\n",
       "      <th>E</th>\n",
       "      <th>F</th>\n",
       "      <th>H</th>\n",
       "      <th>PRISMAF</th>\n",
       "    </tr>\n",
       "    <tr>\n",
       "      <th>lith_word_studied</th>\n",
       "      <th></th>\n",
       "      <th></th>\n",
       "      <th></th>\n",
       "      <th></th>\n",
       "      <th></th>\n",
       "      <th></th>\n",
       "    </tr>\n",
       "  </thead>\n",
       "  <tbody>\n",
       "    <tr>\n",
       "      <th>akis</th>\n",
       "      <td>0.90</td>\n",
       "      <td>0.714286</td>\n",
       "      <td>0.0</td>\n",
       "      <td>0.58</td>\n",
       "      <td>0.306122</td>\n",
       "      <td>0.523810</td>\n",
       "    </tr>\n",
       "    <tr>\n",
       "      <th>arbata</th>\n",
       "      <td>0.95</td>\n",
       "      <td>0.591837</td>\n",
       "      <td>0.0</td>\n",
       "      <td>0.44</td>\n",
       "      <td>0.204082</td>\n",
       "      <td>0.428571</td>\n",
       "    </tr>\n",
       "    <tr>\n",
       "      <th>batas</th>\n",
       "      <td>0.70</td>\n",
       "      <td>0.530612</td>\n",
       "      <td>0.0</td>\n",
       "      <td>0.34</td>\n",
       "      <td>0.346939</td>\n",
       "      <td>0.428571</td>\n",
       "    </tr>\n",
       "    <tr>\n",
       "      <th>bugnas</th>\n",
       "      <td>0.65</td>\n",
       "      <td>0.510204</td>\n",
       "      <td>1.0</td>\n",
       "      <td>0.50</td>\n",
       "      <td>0.244898</td>\n",
       "      <td>0.333333</td>\n",
       "    </tr>\n",
       "    <tr>\n",
       "      <th>burna</th>\n",
       "      <td>0.70</td>\n",
       "      <td>0.632653</td>\n",
       "      <td>0.0</td>\n",
       "      <td>0.54</td>\n",
       "      <td>0.204082</td>\n",
       "      <td>0.428571</td>\n",
       "    </tr>\n",
       "    <tr>\n",
       "      <th>daina</th>\n",
       "      <td>0.60</td>\n",
       "      <td>0.591837</td>\n",
       "      <td>0.0</td>\n",
       "      <td>0.46</td>\n",
       "      <td>0.387755</td>\n",
       "      <td>0.428571</td>\n",
       "    </tr>\n",
       "    <tr>\n",
       "      <th>dirzas</th>\n",
       "      <td>0.50</td>\n",
       "      <td>0.367347</td>\n",
       "      <td>0.0</td>\n",
       "      <td>0.30</td>\n",
       "      <td>0.183673</td>\n",
       "      <td>0.238095</td>\n",
       "    </tr>\n",
       "    <tr>\n",
       "      <th>duona</th>\n",
       "      <td>0.65</td>\n",
       "      <td>0.530612</td>\n",
       "      <td>0.0</td>\n",
       "      <td>0.42</td>\n",
       "      <td>0.244898</td>\n",
       "      <td>0.333333</td>\n",
       "    </tr>\n",
       "    <tr>\n",
       "      <th>gelezis</th>\n",
       "      <td>0.40</td>\n",
       "      <td>0.408163</td>\n",
       "      <td>0.0</td>\n",
       "      <td>0.24</td>\n",
       "      <td>0.122449</td>\n",
       "      <td>0.285714</td>\n",
       "    </tr>\n",
       "    <tr>\n",
       "      <th>kamuolys</th>\n",
       "      <td>0.40</td>\n",
       "      <td>0.367347</td>\n",
       "      <td>0.0</td>\n",
       "      <td>0.20</td>\n",
       "      <td>0.061224</td>\n",
       "      <td>0.190476</td>\n",
       "    </tr>\n",
       "    <tr>\n",
       "      <th>karalius</th>\n",
       "      <td>0.50</td>\n",
       "      <td>0.551020</td>\n",
       "      <td>1.0</td>\n",
       "      <td>0.52</td>\n",
       "      <td>0.285714</td>\n",
       "      <td>0.428571</td>\n",
       "    </tr>\n",
       "    <tr>\n",
       "      <th>kardas</th>\n",
       "      <td>0.45</td>\n",
       "      <td>0.428571</td>\n",
       "      <td>1.0</td>\n",
       "      <td>0.34</td>\n",
       "      <td>0.265306</td>\n",
       "      <td>0.428571</td>\n",
       "    </tr>\n",
       "    <tr>\n",
       "      <th>kirvis</th>\n",
       "      <td>0.20</td>\n",
       "      <td>0.408163</td>\n",
       "      <td>0.0</td>\n",
       "      <td>0.26</td>\n",
       "      <td>0.204082</td>\n",
       "      <td>0.190476</td>\n",
       "    </tr>\n",
       "    <tr>\n",
       "      <th>knyga</th>\n",
       "      <td>0.70</td>\n",
       "      <td>0.489796</td>\n",
       "      <td>0.0</td>\n",
       "      <td>0.36</td>\n",
       "      <td>0.244898</td>\n",
       "      <td>0.333333</td>\n",
       "    </tr>\n",
       "    <tr>\n",
       "      <th>kreida</th>\n",
       "      <td>0.55</td>\n",
       "      <td>0.408163</td>\n",
       "      <td>1.0</td>\n",
       "      <td>0.32</td>\n",
       "      <td>0.306122</td>\n",
       "      <td>0.428571</td>\n",
       "    </tr>\n",
       "    <tr>\n",
       "      <th>kriaukle</th>\n",
       "      <td>0.35</td>\n",
       "      <td>0.265306</td>\n",
       "      <td>1.0</td>\n",
       "      <td>0.16</td>\n",
       "      <td>0.081633</td>\n",
       "      <td>0.238095</td>\n",
       "    </tr>\n",
       "    <tr>\n",
       "      <th>kumpis</th>\n",
       "      <td>0.55</td>\n",
       "      <td>0.346939</td>\n",
       "      <td>0.0</td>\n",
       "      <td>0.28</td>\n",
       "      <td>0.122449</td>\n",
       "      <td>0.190476</td>\n",
       "    </tr>\n",
       "    <tr>\n",
       "      <th>kunigas</th>\n",
       "      <td>0.50</td>\n",
       "      <td>0.387755</td>\n",
       "      <td>0.0</td>\n",
       "      <td>0.34</td>\n",
       "      <td>0.224490</td>\n",
       "      <td>0.333333</td>\n",
       "    </tr>\n",
       "    <tr>\n",
       "      <th>laikrodis</th>\n",
       "      <td>0.50</td>\n",
       "      <td>0.265306</td>\n",
       "      <td>0.0</td>\n",
       "      <td>0.18</td>\n",
       "      <td>0.142857</td>\n",
       "      <td>0.190476</td>\n",
       "    </tr>\n",
       "    <tr>\n",
       "      <th>laiptelis</th>\n",
       "      <td>0.45</td>\n",
       "      <td>0.265306</td>\n",
       "      <td>0.0</td>\n",
       "      <td>0.34</td>\n",
       "      <td>0.122449</td>\n",
       "      <td>0.238095</td>\n",
       "    </tr>\n",
       "    <tr>\n",
       "      <th>lietus</th>\n",
       "      <td>0.45</td>\n",
       "      <td>0.326531</td>\n",
       "      <td>0.0</td>\n",
       "      <td>0.42</td>\n",
       "      <td>0.122449</td>\n",
       "      <td>0.285714</td>\n",
       "    </tr>\n",
       "    <tr>\n",
       "      <th>lova</th>\n",
       "      <td>1.00</td>\n",
       "      <td>0.857143</td>\n",
       "      <td>0.0</td>\n",
       "      <td>0.70</td>\n",
       "      <td>0.489796</td>\n",
       "      <td>0.523810</td>\n",
       "    </tr>\n",
       "    <tr>\n",
       "      <th>masina</th>\n",
       "      <td>0.55</td>\n",
       "      <td>0.448980</td>\n",
       "      <td>0.0</td>\n",
       "      <td>0.44</td>\n",
       "      <td>0.142857</td>\n",
       "      <td>0.380952</td>\n",
       "    </tr>\n",
       "    <tr>\n",
       "      <th>mesa</th>\n",
       "      <td>0.95</td>\n",
       "      <td>0.918367</td>\n",
       "      <td>1.0</td>\n",
       "      <td>0.82</td>\n",
       "      <td>0.653061</td>\n",
       "      <td>0.523810</td>\n",
       "    </tr>\n",
       "    <tr>\n",
       "      <th>miestas</th>\n",
       "      <td>0.50</td>\n",
       "      <td>0.530612</td>\n",
       "      <td>0.0</td>\n",
       "      <td>0.34</td>\n",
       "      <td>0.265306</td>\n",
       "      <td>0.285714</td>\n",
       "    </tr>\n",
       "    <tr>\n",
       "      <th>mokykla</th>\n",
       "      <td>0.80</td>\n",
       "      <td>0.693878</td>\n",
       "      <td>0.0</td>\n",
       "      <td>0.60</td>\n",
       "      <td>0.387755</td>\n",
       "      <td>0.666667</td>\n",
       "    </tr>\n",
       "    <tr>\n",
       "      <th>muilas</th>\n",
       "      <td>0.70</td>\n",
       "      <td>0.469388</td>\n",
       "      <td>0.0</td>\n",
       "      <td>0.28</td>\n",
       "      <td>0.183673</td>\n",
       "      <td>0.285714</td>\n",
       "    </tr>\n",
       "    <tr>\n",
       "      <th>nafta</th>\n",
       "      <td>0.80</td>\n",
       "      <td>0.693878</td>\n",
       "      <td>1.0</td>\n",
       "      <td>0.64</td>\n",
       "      <td>0.428571</td>\n",
       "      <td>0.666667</td>\n",
       "    </tr>\n",
       "    <tr>\n",
       "      <th>padazas</th>\n",
       "      <td>0.20</td>\n",
       "      <td>0.306122</td>\n",
       "      <td>0.0</td>\n",
       "      <td>0.18</td>\n",
       "      <td>0.040816</td>\n",
       "      <td>0.142857</td>\n",
       "    </tr>\n",
       "    <tr>\n",
       "      <th>pastatas</th>\n",
       "      <td>0.90</td>\n",
       "      <td>0.795918</td>\n",
       "      <td>1.0</td>\n",
       "      <td>0.74</td>\n",
       "      <td>0.510204</td>\n",
       "      <td>0.571429</td>\n",
       "    </tr>\n",
       "    <tr>\n",
       "      <th>pinigine</th>\n",
       "      <td>0.30</td>\n",
       "      <td>0.469388</td>\n",
       "      <td>0.0</td>\n",
       "      <td>0.32</td>\n",
       "      <td>0.061224</td>\n",
       "      <td>0.142857</td>\n",
       "    </tr>\n",
       "    <tr>\n",
       "      <th>plyta</th>\n",
       "      <td>0.55</td>\n",
       "      <td>0.367347</td>\n",
       "      <td>0.0</td>\n",
       "      <td>0.26</td>\n",
       "      <td>0.163265</td>\n",
       "      <td>0.238095</td>\n",
       "    </tr>\n",
       "    <tr>\n",
       "      <th>pupa</th>\n",
       "      <td>0.85</td>\n",
       "      <td>0.734694</td>\n",
       "      <td>1.0</td>\n",
       "      <td>0.66</td>\n",
       "      <td>0.346939</td>\n",
       "      <td>0.761905</td>\n",
       "    </tr>\n",
       "    <tr>\n",
       "      <th>purvas</th>\n",
       "      <td>0.60</td>\n",
       "      <td>0.591837</td>\n",
       "      <td>0.0</td>\n",
       "      <td>0.42</td>\n",
       "      <td>0.265306</td>\n",
       "      <td>0.476190</td>\n",
       "    </tr>\n",
       "    <tr>\n",
       "      <th>rusys</th>\n",
       "      <td>0.75</td>\n",
       "      <td>0.591837</td>\n",
       "      <td>0.0</td>\n",
       "      <td>0.46</td>\n",
       "      <td>0.163265</td>\n",
       "      <td>0.238095</td>\n",
       "    </tr>\n",
       "    <tr>\n",
       "      <th>sausainis</th>\n",
       "      <td>0.75</td>\n",
       "      <td>0.632653</td>\n",
       "      <td>0.0</td>\n",
       "      <td>0.50</td>\n",
       "      <td>0.306122</td>\n",
       "      <td>0.380952</td>\n",
       "    </tr>\n",
       "    <tr>\n",
       "      <th>sesuo</th>\n",
       "      <td>0.90</td>\n",
       "      <td>0.795918</td>\n",
       "      <td>0.0</td>\n",
       "      <td>0.60</td>\n",
       "      <td>0.428571</td>\n",
       "      <td>0.666667</td>\n",
       "    </tr>\n",
       "    <tr>\n",
       "      <th>smegenys</th>\n",
       "      <td>0.70</td>\n",
       "      <td>0.653061</td>\n",
       "      <td>0.0</td>\n",
       "      <td>0.50</td>\n",
       "      <td>0.265306</td>\n",
       "      <td>0.476190</td>\n",
       "    </tr>\n",
       "    <tr>\n",
       "      <th>smuikas</th>\n",
       "      <td>0.25</td>\n",
       "      <td>0.326531</td>\n",
       "      <td>0.0</td>\n",
       "      <td>0.14</td>\n",
       "      <td>0.163265</td>\n",
       "      <td>0.380952</td>\n",
       "    </tr>\n",
       "    <tr>\n",
       "      <th>tiltas</th>\n",
       "      <td>0.75</td>\n",
       "      <td>0.530612</td>\n",
       "      <td>0.0</td>\n",
       "      <td>0.54</td>\n",
       "      <td>0.306122</td>\n",
       "      <td>0.428571</td>\n",
       "    </tr>\n",
       "    <tr>\n",
       "      <th>traukinys</th>\n",
       "      <td>0.90</td>\n",
       "      <td>0.714286</td>\n",
       "      <td>0.0</td>\n",
       "      <td>0.62</td>\n",
       "      <td>0.285714</td>\n",
       "      <td>0.380952</td>\n",
       "    </tr>\n",
       "    <tr>\n",
       "      <th>upe</th>\n",
       "      <td>0.85</td>\n",
       "      <td>0.693878</td>\n",
       "      <td>0.0</td>\n",
       "      <td>0.52</td>\n",
       "      <td>0.306122</td>\n",
       "      <td>0.380952</td>\n",
       "    </tr>\n",
       "    <tr>\n",
       "      <th>vaistas</th>\n",
       "      <td>0.30</td>\n",
       "      <td>0.387755</td>\n",
       "      <td>0.0</td>\n",
       "      <td>0.38</td>\n",
       "      <td>0.061224</td>\n",
       "      <td>0.238095</td>\n",
       "    </tr>\n",
       "    <tr>\n",
       "      <th>varpas</th>\n",
       "      <td>0.15</td>\n",
       "      <td>0.204082</td>\n",
       "      <td>1.0</td>\n",
       "      <td>0.14</td>\n",
       "      <td>0.122449</td>\n",
       "      <td>0.238095</td>\n",
       "    </tr>\n",
       "    <tr>\n",
       "      <th>zele</th>\n",
       "      <td>0.95</td>\n",
       "      <td>0.795918</td>\n",
       "      <td>0.0</td>\n",
       "      <td>0.76</td>\n",
       "      <td>0.428571</td>\n",
       "      <td>0.428571</td>\n",
       "    </tr>\n",
       "  </tbody>\n",
       "</table>\n",
       "</div>"
      ],
      "text/plain": [
       "delay_group           A         C    E     F         H   PRISMAF\n",
       "lith_word_studied                                               \n",
       "akis               0.90  0.714286  0.0  0.58  0.306122  0.523810\n",
       "arbata             0.95  0.591837  0.0  0.44  0.204082  0.428571\n",
       "batas              0.70  0.530612  0.0  0.34  0.346939  0.428571\n",
       "bugnas             0.65  0.510204  1.0  0.50  0.244898  0.333333\n",
       "burna              0.70  0.632653  0.0  0.54  0.204082  0.428571\n",
       "daina              0.60  0.591837  0.0  0.46  0.387755  0.428571\n",
       "dirzas             0.50  0.367347  0.0  0.30  0.183673  0.238095\n",
       "duona              0.65  0.530612  0.0  0.42  0.244898  0.333333\n",
       "gelezis            0.40  0.408163  0.0  0.24  0.122449  0.285714\n",
       "kamuolys           0.40  0.367347  0.0  0.20  0.061224  0.190476\n",
       "karalius           0.50  0.551020  1.0  0.52  0.285714  0.428571\n",
       "kardas             0.45  0.428571  1.0  0.34  0.265306  0.428571\n",
       "kirvis             0.20  0.408163  0.0  0.26  0.204082  0.190476\n",
       "knyga              0.70  0.489796  0.0  0.36  0.244898  0.333333\n",
       "kreida             0.55  0.408163  1.0  0.32  0.306122  0.428571\n",
       "kriaukle           0.35  0.265306  1.0  0.16  0.081633  0.238095\n",
       "kumpis             0.55  0.346939  0.0  0.28  0.122449  0.190476\n",
       "kunigas            0.50  0.387755  0.0  0.34  0.224490  0.333333\n",
       "laikrodis          0.50  0.265306  0.0  0.18  0.142857  0.190476\n",
       "laiptelis          0.45  0.265306  0.0  0.34  0.122449  0.238095\n",
       "lietus             0.45  0.326531  0.0  0.42  0.122449  0.285714\n",
       "lova               1.00  0.857143  0.0  0.70  0.489796  0.523810\n",
       "masina             0.55  0.448980  0.0  0.44  0.142857  0.380952\n",
       "mesa               0.95  0.918367  1.0  0.82  0.653061  0.523810\n",
       "miestas            0.50  0.530612  0.0  0.34  0.265306  0.285714\n",
       "mokykla            0.80  0.693878  0.0  0.60  0.387755  0.666667\n",
       "muilas             0.70  0.469388  0.0  0.28  0.183673  0.285714\n",
       "nafta              0.80  0.693878  1.0  0.64  0.428571  0.666667\n",
       "padazas            0.20  0.306122  0.0  0.18  0.040816  0.142857\n",
       "pastatas           0.90  0.795918  1.0  0.74  0.510204  0.571429\n",
       "pinigine           0.30  0.469388  0.0  0.32  0.061224  0.142857\n",
       "plyta              0.55  0.367347  0.0  0.26  0.163265  0.238095\n",
       "pupa               0.85  0.734694  1.0  0.66  0.346939  0.761905\n",
       "purvas             0.60  0.591837  0.0  0.42  0.265306  0.476190\n",
       "rusys              0.75  0.591837  0.0  0.46  0.163265  0.238095\n",
       "sausainis          0.75  0.632653  0.0  0.50  0.306122  0.380952\n",
       "sesuo              0.90  0.795918  0.0  0.60  0.428571  0.666667\n",
       "smegenys           0.70  0.653061  0.0  0.50  0.265306  0.476190\n",
       "smuikas            0.25  0.326531  0.0  0.14  0.163265  0.380952\n",
       "tiltas             0.75  0.530612  0.0  0.54  0.306122  0.428571\n",
       "traukinys          0.90  0.714286  0.0  0.62  0.285714  0.380952\n",
       "upe                0.85  0.693878  0.0  0.52  0.306122  0.380952\n",
       "vaistas            0.30  0.387755  0.0  0.38  0.061224  0.238095\n",
       "varpas             0.15  0.204082  1.0  0.14  0.122449  0.238095\n",
       "zele               0.95  0.795918  0.0  0.76  0.428571  0.428571"
      ]
     },
     "execution_count": 30,
     "metadata": {},
     "output_type": "execute_result"
    }
   ],
   "source": [
    "df.groupby([\"delay_group\",\"lith_word_studied\"])['recall_accuracy'].mean().unstack().transpose()"
   ]
  },
  {
   "cell_type": "markdown",
   "metadata": {},
   "source": [
    "Of course, one of the most important transformations is to find the accuracy per subject (since subjects are often our unit of analysis).  In this case we might like to compute the average performance of each person but copy over several of the other attributes such as the condition.  For this we are going to use a more complex command called [named aggregation](https://pandas.pydata.org/pandas-docs/stable/user_guide/groupby.html#named-aggregation), which results in a new dataframe that is \"tidy\" in the sense of each row being an observation (person) and each column being a descriptor or variable, but we got rid of the individual trials here and replaced them with the average across the trials.  This is a very common type of step in behavioral data analysis."
   ]
  },
  {
   "cell_type": "code",
   "execution_count": 31,
   "metadata": {},
   "outputs": [
    {
     "data": {
      "text/html": [
       "<div>\n",
       "<style scoped>\n",
       "    .dataframe tbody tr th:only-of-type {\n",
       "        vertical-align: middle;\n",
       "    }\n",
       "\n",
       "    .dataframe tbody tr th {\n",
       "        vertical-align: top;\n",
       "    }\n",
       "\n",
       "    .dataframe thead th {\n",
       "        text-align: right;\n",
       "    }\n",
       "</style>\n",
       "<table border=\"1\" class=\"dataframe\">\n",
       "  <thead>\n",
       "    <tr style=\"text-align: right;\">\n",
       "      <th></th>\n",
       "      <th>participant_id</th>\n",
       "      <th>delay_group</th>\n",
       "      <th>recall_accuracy</th>\n",
       "    </tr>\n",
       "  </thead>\n",
       "  <tbody>\n",
       "    <tr>\n",
       "      <th>0</th>\n",
       "      <td>A1</td>\n",
       "      <td>A</td>\n",
       "      <td>0.644444</td>\n",
       "    </tr>\n",
       "    <tr>\n",
       "      <th>1</th>\n",
       "      <td>A10</td>\n",
       "      <td>A</td>\n",
       "      <td>0.555556</td>\n",
       "    </tr>\n",
       "    <tr>\n",
       "      <th>2</th>\n",
       "      <td>A11</td>\n",
       "      <td>A</td>\n",
       "      <td>0.444444</td>\n",
       "    </tr>\n",
       "    <tr>\n",
       "      <th>3</th>\n",
       "      <td>A12</td>\n",
       "      <td>A</td>\n",
       "      <td>0.955556</td>\n",
       "    </tr>\n",
       "    <tr>\n",
       "      <th>4</th>\n",
       "      <td>A13</td>\n",
       "      <td>A</td>\n",
       "      <td>0.400000</td>\n",
       "    </tr>\n",
       "    <tr>\n",
       "      <th>...</th>\n",
       "      <td>...</td>\n",
       "      <td>...</td>\n",
       "      <td>...</td>\n",
       "    </tr>\n",
       "    <tr>\n",
       "      <th>185</th>\n",
       "      <td>PRISMAF28</td>\n",
       "      <td>PRISMAF</td>\n",
       "      <td>0.244444</td>\n",
       "    </tr>\n",
       "    <tr>\n",
       "      <th>186</th>\n",
       "      <td>PRISMAF29</td>\n",
       "      <td>PRISMAF</td>\n",
       "      <td>0.644444</td>\n",
       "    </tr>\n",
       "    <tr>\n",
       "      <th>187</th>\n",
       "      <td>PRISMAF30</td>\n",
       "      <td>PRISMAF</td>\n",
       "      <td>0.866667</td>\n",
       "    </tr>\n",
       "    <tr>\n",
       "      <th>188</th>\n",
       "      <td>PRISMAF31</td>\n",
       "      <td>PRISMAF</td>\n",
       "      <td>0.511111</td>\n",
       "    </tr>\n",
       "    <tr>\n",
       "      <th>189</th>\n",
       "      <td>PRISMAF32</td>\n",
       "      <td>PRISMAF</td>\n",
       "      <td>0.222222</td>\n",
       "    </tr>\n",
       "  </tbody>\n",
       "</table>\n",
       "<p>190 rows × 3 columns</p>\n",
       "</div>"
      ],
      "text/plain": [
       "    participant_id delay_group  recall_accuracy\n",
       "0               A1           A         0.644444\n",
       "1              A10           A         0.555556\n",
       "2              A11           A         0.444444\n",
       "3              A12           A         0.955556\n",
       "4              A13           A         0.400000\n",
       "..             ...         ...              ...\n",
       "185      PRISMAF28     PRISMAF         0.244444\n",
       "186      PRISMAF29     PRISMAF         0.644444\n",
       "187      PRISMAF30     PRISMAF         0.866667\n",
       "188      PRISMAF31     PRISMAF         0.511111\n",
       "189      PRISMAF32     PRISMAF         0.222222\n",
       "\n",
       "[190 rows x 3 columns]"
      ]
     },
     "execution_count": 31,
     "metadata": {},
     "output_type": "execute_result"
    }
   ],
   "source": [
    "df.groupby(\"participant_id\").agg(delay_group=pd.NamedAgg(column='delay_group', aggfunc='first'),\n",
    "                                 recall_accuracy=pd.NamedAgg(column='recall_accuracy', aggfunc='mean')).reset_index()"
   ]
  },
  {
   "cell_type": "markdown",
   "metadata": {},
   "source": [
    "Explaining all the ins and out of aggregating descriptive statistics is beyond the scope here.  In reality it is something you have to kind of wrestle with sometimes when working with data.  However, hopefully knowledge about a few of these commands and the general operations available to you can help you think forward about how best to design a data transformation for your problem."
   ]
  },
  {
   "cell_type": "markdown",
   "metadata": {},
   "source": [
    "## Creating your own custom descriptive statistics\n",
    "\n",
    "In addition to the standard statistics like mean, median, variance, etc., it is possible to compute custom descriptive statistics on your data.  This sometimes comes up in the context of a psychology experiment where something like \"proportion of learning blocks where people reached some criterion\" might be your statistic.  In those cases you might need to write a custom definition of a statistic and apply it to your data.\n",
    "\n",
    "One way to do this in Pandas is with the `.apply()` function (docs [here](https://pandas.pydata.org/pandas-docs/stable/user_guide/groupby.html#flexible-apply)).  Let's look at an example by using `.apply()` to compute a custom variation measure called the mean absolute deviation.  This is related to the mean squared deviation used in the normal variance but instead of squaring the numbers we take their absolute value."
   ]
  },
  {
   "cell_type": "code",
   "execution_count": 32,
   "metadata": {},
   "outputs": [
    {
     "data": {
      "text/plain": [
       "participant_id\n",
       "A1           13.556543\n",
       "A10          25.723457\n",
       "A11          16.192593\n",
       "A12           4.933333\n",
       "A13          20.847407\n",
       "               ...    \n",
       "PRISMAF28    23.782716\n",
       "PRISMAF29    18.267654\n",
       "PRISMAF30    21.901235\n",
       "PRISMAF31    10.641975\n",
       "PRISMAF32    23.976296\n",
       "Name: jol_value, Length: 190, dtype: float64"
      ]
     },
     "execution_count": 32,
     "metadata": {},
     "output_type": "execute_result"
    }
   ],
   "source": [
    "def mean_absolute_deviation(x):\n",
    "    return np.mean(np.abs(x-x.mean()))\n",
    "df.groupby('participant_id')['jol_value'].apply(mean_absolute_deviation)"
   ]
  },
  {
   "cell_type": "markdown",
   "metadata": {},
   "source": [
    "In this cell we defined a new function that takes as input a vector of data `x` and then computes the mean absolute deviation using Numpy functions (e.g., `np.abs` is the absolute value, and `np.mean` is another function for computing a mean).  Then we grouped the data by `participant_id`, selected the `jol_value` column and `.apply()` the custom function we wrote."
   ]
  },
  {
   "cell_type": "markdown",
   "metadata": {},
   "source": [
    "## Correlations and Covariance\n",
    "\n",
    ">\"Correlation does not equal causation.\" ---Every statistics and research methods instructor ever\n",
    "\n",
    "Up to this point we have focused entirely on how to construct descriptive statistics for a single variable. What we haven't done is talked about how to describe the relationships *between* variables in the data. To do that, we want to talk mostly about the **_correlation_** between variables. This is also a descriptive statistic in the traditional definition, but here we describe the relationship between two variables rather than summarizing the properties of just a single variable.\n",
    "\n",
    "### The strength and direction of a relationship"
   ]
  },
  {
   "cell_type": "markdown",
   "metadata": {},
   "source": [
    "We can draw scatterplots to give us a general sense of how closely related two variables are. For example, we can first use the split-apply-combine workflow to organize the data into the average JOL and average recall accuracy for each word and store this in a new dataframe:"
   ]
  },
  {
   "cell_type": "code",
   "execution_count": 33,
   "metadata": {},
   "outputs": [],
   "source": [
    "corr_df=df.groupby(\"lith_word_studied\")[['jol_value','recall_accuracy']].mean().reset_index()"
   ]
  },
  {
   "cell_type": "code",
   "execution_count": 34,
   "metadata": {},
   "outputs": [
    {
     "data": {
      "text/plain": [
       "<Axes: xlabel='jol_value', ylabel='recall_accuracy'>"
      ]
     },
     "execution_count": 34,
     "metadata": {},
     "output_type": "execute_result"
    },
    {
     "data": {
      "image/png": "[encoded data removed]",
      "text/plain": [
       "<Figure size 640x480 with 1 Axes>"
      ]
     },
     "metadata": {},
     "output_type": "display_data"
    }
   ],
   "source": [
    "sns.scatterplot(x='jol_value', y='recall_accuracy', data=corr_df)"
   ]
  },
  {
   "cell_type": "markdown",
   "metadata": {},
   "source": [
    "This scatterplot shows that the average JOL rating seems to be related to recall accuracy such that higher JOL ratings were given to words that were more accurately remembered.  This suggests that people have some reasonably calibrated \"meta-cognition\" about how well they learned something.  What is your JOL for the material in this chapter?"
   ]
  },
  {
   "cell_type": "markdown",
   "metadata": {},
   "source": [
    "### The correlation coefficient\n",
    "\n",
    "We can make these ideas a bit more explicit by introducing the idea of a **_correlation coefficient_** (or, more specifically, Pearson's correlation coefficient), which is traditionally denoted by $r$. The correlation coefficient between two variables $X$ and $Y$ (sometimes denoted $r_{XY}$), which we'll define more precisely in the next section, is a measure that varies from $-1$ to $1$. When $r = -1$ it means that we have a perfect negative relationship, and when $r = 1$ it means we have a perfect positive relationship. When $r = 0$, there's no relationship at all. If you look at {numref}`fig:corr`, you can see several plots showing what different correlations look like."
   ]
  },
  {
   "cell_type": "code",
   "execution_count": 35,
   "metadata": {
    "tags": [
     "hide-cell"
    ]
   },
   "outputs": [
    {
     "data": {
      "application/papermill.record/image/png": "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",
      "application/papermill.record/text/plain": "<Figure size 600x1200 with 8 Axes>"
     },
     "metadata": {
      "scrapbook": {
       "mime_prefix": "application/papermill.record/",
       "name": "cor_fig"
      }
     },
     "output_type": "display_data"
    },
    {
     "data": {
      "image/png": "[encoded data removed]",
      "text/plain": [
       "<Figure size 600x1200 with 8 Axes>"
      ]
     },
     "metadata": {},
     "output_type": "display_data"
    }
   ],
   "source": [
    "import numpy.random as npr\n",
    "fig, ax=plt.subplots(4,2,figsize=(6,12),sharex='all', sharey='all')\n",
    "axes = ax.ravel()\n",
    "\n",
    "for idx, cor in enumerate([0,0,0.33,-0.33,0.66,-0.66,1,-1]):\n",
    "    df=pd.DataFrame(npr.multivariate_normal([0,0], cov=np.array([[1,cor],[cor,1]]), size=100), columns=[\"x\",\"y\"] )\n",
    "    sns.scatterplot(x='x', y='y',data=df,  ax=axes[idx])\n",
    "    axes[idx].set_title(f\"r = {cor:.2f}\")\n",
    "plt.tight_layout()\n",
    "\n",
    "glue(\"cor_fig\",fig,display=False)"
   ]
  },
  {
   "cell_type": "markdown",
   "metadata": {},
   "source": [
    "```{glue:figure} cor_fig\n",
    ":figwidth: 400px\n",
    ":name: \"fig:corr\"\n",
    "\n",
    "Illustration of the effect of varying the strength and direction of a correlation\n",
    "```"
   ]
  },
  {
   "cell_type": "markdown",
   "metadata": {},
   "source": [
    "The formula for the Pearson's correlation coefficient can be written in several different ways. I think the simplest way to write down the formula is to break it into two steps. Firstly, let's introduce the idea of a **_covariance_**. The covariance between two variables $X$ and $Y$ is a generalization of the notion of the variance; it's a mathematically simple way of describing the relationship between two variables that isn't terribly informative to humans:\n",
    "\n",
    "$\n",
    "\\mathrm{Cov}(X,Y) = \\frac{1}{N-1} \\sum_{i=1}^N \\left( x_i - \\bar{X} \\right) \\left( y_i - \\bar{Y} \\right)\n",
    "$\n",
    "\n",
    "Because we're multiplying (i.e., taking the \"product\" of) a quantity that depends on $X$ by a quantity that depends on $Y$ and then averaging [^covariance], you can think of the formula for the covariance as an \"average cross product\" between $X$ and $Y$. The covariance has the nice property that, if $X$ and $Y$ are entirely unrelated, then the covariance is exactly zero. If the relationship between them is positive (in the sense shown in {numref}`fig:corr`) then the covariance is also positive; and if the relationship is negative then the covariance is also negative. In other words, the covariance captures the basic qualitative idea of correlation. Unfortunately, the raw magnitude of the covariance isn't easy to interpret: it depends on the units in which $X$ and $Y$ are expressed, and worse yet, the actual units that the covariance itself is expressed in are really weird. For instance, if $X$ refers to the `jol_value` variable (units: rating points on a judgement) and $Y$ refers to the `recall_accuracy` variable (units: proportion accurate), then the units for their covariance are \"rating points $\\times$ accuracy\". And I have no freaking idea what that would even mean. \n",
    "\n",
    "[^covariance]: Just like we saw with the variance and the standard deviation, in practice we divide by $N-1$ rather than $N$.\n",
    "\n",
    "The Pearson correlation coefficient $r$ fixes this interpretation problem by standardizing the covariance, in pretty much the exact same way that the $z$-score standardizes a raw score: by dividing by the standard deviation. However, because we have two variables that contribute to the covariance, the standardization only works if we divide by both standard deviations [^corsimple].  In other words, the correlation between $X$ and $Y$ can be written as follows:\n",
    "\n",
    "$\n",
    "r_{XY}  = \\frac{\\mathrm{Cov}(X,Y)}{ \\hat{\\sigma}_X \\ \\hat{\\sigma}_Y}\n",
    "$\n",
    "\n",
    "By doing this standardization, not only do we keep all of the nice properties of the covariance discussed earlier, but the actual values of $r$ are on a meaningful scale: $r= 1$ implies a perfect positive relationship, and $r = -1$ implies a perfect negative relationship. I'll expand a little more on this point later. But before I do, let's look at how to calculate correlations in python.\n",
    "\n",
    "[^corsimple]: This is an oversimplification, but it'll do for our purposes."
   ]
  },
  {
   "cell_type": "markdown",
   "metadata": {},
   "source": [
    "### Calculating correlations in Python\n",
    "\n",
    "\n",
    "There are several methods for computing the correlation coefficient in Python including using [Scipy](https://docs.scipy.org/doc/scipy-0.14.0/reference/generated/scipy.stats.pearsonr.html), [Numpy](https://numpy.org/doc/stable/reference/generated/numpy.corrcoef.html), and [Pandas](https://pandas.pydata.org/docs/reference/api/pandas.DataFrame.corr.html).\n",
    "\n",
    "Usually one is interested in just the regular correlation coefficient, $r$, which is easy to do with Scipy's `pearsonr` command:"
   ]
  },
  {
   "cell_type": "code",
   "execution_count": 36,
   "metadata": {},
   "outputs": [
    {
     "data": {
      "text/plain": [
       "PearsonRResult(statistic=0.9274668603778027, pvalue=5.528157257418485e-20)"
      ]
     },
     "execution_count": 36,
     "metadata": {},
     "output_type": "execute_result"
    }
   ],
   "source": [
    "import scipy.stats as stats\n",
    "stats.pearsonr( x = corr_df['jol_value'], y = corr_df['recall_accuracy'] )"
   ]
  },
  {
   "cell_type": "markdown",
   "metadata": {},
   "source": [
    "You simply specify the vector of numbers to use as x and y and the function returns a tuple. The first is the Pearson $r$ value and the second is the $p$-value from a hypothesis test that the correlation coefficient is greater than 0 (a future chapter will go more deeply into the logic of hypothesis testing).\n",
    "\n",
    "However, there is also a `corr()` function available as a dataframe method in Pandas that is a bit more powerful than this simple example suggests. For example, you can also calculate a complete \"correlation matrix\", between all pairs of variables in the data frame:"
   ]
  },
  {
   "cell_type": "code",
   "execution_count": 37,
   "metadata": {},
   "outputs": [
    {
     "data": {
      "text/html": [
       "<div>\n",
       "<style scoped>\n",
       "    .dataframe tbody tr th:only-of-type {\n",
       "        vertical-align: middle;\n",
       "    }\n",
       "\n",
       "    .dataframe tbody tr th {\n",
       "        vertical-align: top;\n",
       "    }\n",
       "\n",
       "    .dataframe thead th {\n",
       "        text-align: right;\n",
       "    }\n",
       "</style>\n",
       "<table border=\"1\" class=\"dataframe\">\n",
       "  <thead>\n",
       "    <tr style=\"text-align: right;\">\n",
       "      <th></th>\n",
       "      <th>jol_value</th>\n",
       "      <th>recall_accuracy</th>\n",
       "    </tr>\n",
       "  </thead>\n",
       "  <tbody>\n",
       "    <tr>\n",
       "      <th>jol_value</th>\n",
       "      <td>1.000000</td>\n",
       "      <td>0.927467</td>\n",
       "    </tr>\n",
       "    <tr>\n",
       "      <th>recall_accuracy</th>\n",
       "      <td>0.927467</td>\n",
       "      <td>1.000000</td>\n",
       "    </tr>\n",
       "  </tbody>\n",
       "</table>\n",
       "</div>"
      ],
      "text/plain": [
       "                 jol_value  recall_accuracy\n",
       "jol_value         1.000000         0.927467\n",
       "recall_accuracy   0.927467         1.000000"
      ]
     },
     "execution_count": 37,
     "metadata": {},
     "output_type": "execute_result"
    }
   ],
   "source": [
    "# correlate all pairs of variables in \"corr_df\" dataframe:\n",
    "corr_df[['jol_value', 'recall_accuracy']].corr()"
   ]
  },
  {
   "cell_type": "markdown",
   "metadata": {},
   "source": [
    "### Interpreting a correlation\n",
    " \n",
    "Naturally, in real life you don't see many correlations of 1. So how should you interpret a correlation of, say $r= .4$? The honest answer is that it really depends on what you want to use the data for, and on how strong the correlations in your field tend to be. A friend of mine in engineering once argued that any correlation less than $.95$ is completely useless (I think he was exaggerating, even for engineering). On the other hand, there are real cases -- even in psychology -- where you should really expect correlations that strong. For instance, one of the benchmark data sets used to test theories of how people judge similarities is so clean that any theory that can't achieve a correlation of at least $.9$ really isn't deemed to be successful. However, when looking for (say) elementary correlates of intelligence (e.g., inspection time, response time), if you get a correlation above $.3$ you're doing very very well. In short, the interpretation of a correlation depends a lot on the context. \n",
    "\n",
    "However, something that can never be stressed enough is that you should *always* look at the scatterplot before attaching any interpretation to the data. A correlation might not mean what you think it means (see above)."
   ]
  },
  {
   "cell_type": "markdown",
   "metadata": {},
   "source": [
    "### Spearman's rank correlations\n",
    "\n",
    "The Pearson correlation coefficient is useful for a lot of things, but it does have shortcomings. One issue in particular stands out: what it actually measures is the strength of the *linear* relationship between two variables. In other words, what it gives you is a measure of the extent to which the data all tend to fall on a single, perfectly straight line. Often, this is a pretty good approximation to what we mean when we say \"relationship\", and so the Pearson correlation is a good thing to calculation. Sometimes, it isn't. \n",
    "\n",
    "One very common situation where the Pearson correlation isn't quite the right thing to use arises when an increase in one variable $X$ really is reflected in an increase in another variable $Y$, but the nature of the relationship isn't necessarily linear. An example of this might be the relationship between effort and reward when studying for an exam. If you put in zero effort ($X$) into learning a subject, then you should expect a grade of 0% ($Y$). However, a little bit of effort will cause a *massive* improvement: just turning up to lectures means that you learn a fair bit, and if you just turn up to classes, and scribble a few things down so your grade might rise to 35%, all without a lot of effort. However, you just don't get the same effect at the other end of the scale. As everyone knows, it takes *a lot* more effort to get a grade of 90% than it takes to get a grade of 55%. What this means is that, if I've got data looking at study effort and grades, there's a pretty good chance that Pearson correlations will be misleading. \n",
    "\n"
   ]
  },
  {
   "cell_type": "code",
   "execution_count": 38,
   "metadata": {
    "tags": [
     "hide-cell"
    ]
   },
   "outputs": [
    {
     "data": {
      "application/papermill.record/image/png": "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",
      "application/papermill.record/text/plain": "<Figure size 800x600 with 1 Axes>"
     },
     "metadata": {
      "scrapbook": {
       "mime_prefix": "application/papermill.record/",
       "name": "grades_fig"
      }
     },
     "output_type": "display_data"
    },
    {
     "data": {
      "image/png": "[encoded data removed]",
      "text/plain": [
       "<Figure size 800x600 with 1 Axes>"
      ]
     },
     "metadata": {},
     "output_type": "display_data"
    }
   ],
   "source": [
    "grades_df=pd.DataFrame({'hours':[2,76,40,6,16,28,27,59,46,68],'grade':[13,91,79,14,21,74,47,85,84,88]})\n",
    "fig,ax=plt.subplots(figsize=(8,6))\n",
    "sns.regplot(x='hours',y='grade',data=grades_df,marker='o',ax=ax, line_kws={'linestyle':'--'}, ci=None)\n",
    "glue(\"grades_fig\",fig,display=False)"
   ]
  },
  {
   "cell_type": "markdown",
   "metadata": {},
   "source": [
    "```{glue:figure} grades_fig\n",
    ":figwidth: 600px\n",
    ":name: \"fig:grades\"\n",
    "\n",
    "The relationship between hours worked and grade received, for a toy data set consisting of only 10 students (each circle corresponds to one student). The dashed line through the middle shows the linear relationship between the two variables. This produces a strong Pearson correlation of $r = .91$. However, the interesting thing to note here is that there's actually a perfect monotonic relationship between the two variables: in this toy example at least, increasing the hours worked always increases the grade received, as illustrated by the solid line. This is reflected in a Spearman correlation of $rho = 1$. With such a small data set, however, it's an open question as to which version better describes the actual relationship involved. \n",
    "```"
   ]
  },
  {
   "cell_type": "markdown",
   "metadata": {},
   "source": [
    "To illustrate, consider the data plotted in {numref}`fig:grades`, showing the relationship between hours worked and grade received for 10 students taking some class. The curious thing about this -- highly fictitious -- data set is that increasing your effort *always* increases your grade. It might be by a lot or it might be by a little, but increasing effort will never decrease your grade. \n",
    "\n",
    "The raw data look like this:"
   ]
  },
  {
   "cell_type": "code",
   "execution_count": 39,
   "metadata": {},
   "outputs": [
    {
     "data": {
      "text/html": [
       "<div>\n",
       "<style scoped>\n",
       "    .dataframe tbody tr th:only-of-type {\n",
       "        vertical-align: middle;\n",
       "    }\n",
       "\n",
       "    .dataframe tbody tr th {\n",
       "        vertical-align: top;\n",
       "    }\n",
       "\n",
       "    .dataframe thead th {\n",
       "        text-align: right;\n",
       "    }\n",
       "</style>\n",
       "<table border=\"1\" class=\"dataframe\">\n",
       "  <thead>\n",
       "    <tr style=\"text-align: right;\">\n",
       "      <th></th>\n",
       "      <th>hours</th>\n",
       "      <th>grade</th>\n",
       "    </tr>\n",
       "  </thead>\n",
       "  <tbody>\n",
       "    <tr>\n",
       "      <th>0</th>\n",
       "      <td>2</td>\n",
       "      <td>13</td>\n",
       "    </tr>\n",
       "    <tr>\n",
       "      <th>1</th>\n",
       "      <td>76</td>\n",
       "      <td>91</td>\n",
       "    </tr>\n",
       "    <tr>\n",
       "      <th>2</th>\n",
       "      <td>40</td>\n",
       "      <td>79</td>\n",
       "    </tr>\n",
       "    <tr>\n",
       "      <th>3</th>\n",
       "      <td>6</td>\n",
       "      <td>14</td>\n",
       "    </tr>\n",
       "    <tr>\n",
       "      <th>4</th>\n",
       "      <td>16</td>\n",
       "      <td>21</td>\n",
       "    </tr>\n",
       "    <tr>\n",
       "      <th>5</th>\n",
       "      <td>28</td>\n",
       "      <td>74</td>\n",
       "    </tr>\n",
       "    <tr>\n",
       "      <th>6</th>\n",
       "      <td>27</td>\n",
       "      <td>47</td>\n",
       "    </tr>\n",
       "    <tr>\n",
       "      <th>7</th>\n",
       "      <td>59</td>\n",
       "      <td>85</td>\n",
       "    </tr>\n",
       "    <tr>\n",
       "      <th>8</th>\n",
       "      <td>46</td>\n",
       "      <td>84</td>\n",
       "    </tr>\n",
       "    <tr>\n",
       "      <th>9</th>\n",
       "      <td>68</td>\n",
       "      <td>88</td>\n",
       "    </tr>\n",
       "  </tbody>\n",
       "</table>\n",
       "</div>"
      ],
      "text/plain": [
       "   hours  grade\n",
       "0      2     13\n",
       "1     76     91\n",
       "2     40     79\n",
       "3      6     14\n",
       "4     16     21\n",
       "5     28     74\n",
       "6     27     47\n",
       "7     59     85\n",
       "8     46     84\n",
       "9     68     88"
      ]
     },
     "execution_count": 39,
     "metadata": {},
     "output_type": "execute_result"
    }
   ],
   "source": [
    "grades_df"
   ]
  },
  {
   "cell_type": "markdown",
   "metadata": {},
   "source": [
    "If we run a standard Pearson correlation, it shows a strong relationship between hours worked and grade received,"
   ]
  },
  {
   "cell_type": "code",
   "execution_count": 40,
   "metadata": {},
   "outputs": [
    {
     "name": "stdout",
     "output_type": "stream",
     "text": [
      "r = 0.9094019658612524\n"
     ]
    }
   ],
   "source": [
    "print(\"r =\", stats.pearsonr(grades_df['hours'], grades_df['grade'])[0])"
   ]
  },
  {
   "cell_type": "markdown",
   "metadata": {},
   "source": [
    "but this doesn't actually capture the observation that increasing hours worked *always* increases the grade. There's a sense here in which we want to be able to say that the correlation is *perfect* but for a somewhat different notion of what a \"relationship\" is. What we're looking for is something that captures the fact that there is a perfect **_ordinal relationship_** here. That is, if student 1 works more hours than student 2, then we can guarantee that student 1 will get the better grade. That's not what a correlation of $r = .91$ says at all.\n",
    "\n",
    "How should we address this? Actually, it's really easy: if we're looking for ordinal relationships, all we have to do is treat the data as if it were on an ordinal scale! So, instead of measuring effort in terms of \"hours worked\", lets rank all 10 of our students in order of hours worked. That is, student 1 did the least work out of anyone (2 hours) so they get the lowest rank (rank = 1). Student 4 was the next laziest, putting in only  6 hours of work in over the whole semester, so they get the next lowest rank (rank = 2). Notice that I'm using \"rank =1\" to mean \"low rank\". Sometimes in everyday language we talk about \"rank = 1\" to mean \"top rank\" rather than \"bottom rank\". So be careful: you can rank \"from smallest value to largest value\" (i.e., small equals rank 1) or you can rank \"from largest value to smallest value\" (i.e., large equals rank 1). In this case, I'm ranking from smallest to largest, because that's the default way that Python does it. But in real life, it's really easy to forget which way you set things up, so you have to put a bit of effort into remembering! \n",
    "\n",
    "Okay, so let's have a look at our students when we rank them from worst to best in terms of effort and reward: "
   ]
  },
  {
   "cell_type": "code",
   "execution_count": 41,
   "metadata": {},
   "outputs": [
    {
     "data": {
      "text/html": [
       "<div>\n",
       "<style scoped>\n",
       "    .dataframe tbody tr th:only-of-type {\n",
       "        vertical-align: middle;\n",
       "    }\n",
       "\n",
       "    .dataframe tbody tr th {\n",
       "        vertical-align: top;\n",
       "    }\n",
       "\n",
       "    .dataframe thead th {\n",
       "        text-align: right;\n",
       "    }\n",
       "</style>\n",
       "<table border=\"1\" class=\"dataframe\">\n",
       "  <thead>\n",
       "    <tr style=\"text-align: right;\">\n",
       "      <th></th>\n",
       "      <th>hours</th>\n",
       "      <th>grade</th>\n",
       "      <th>rank_grade</th>\n",
       "      <th>rank_hours</th>\n",
       "    </tr>\n",
       "  </thead>\n",
       "  <tbody>\n",
       "    <tr>\n",
       "      <th>0</th>\n",
       "      <td>2</td>\n",
       "      <td>13</td>\n",
       "      <td>1.0</td>\n",
       "      <td>1.0</td>\n",
       "    </tr>\n",
       "    <tr>\n",
       "      <th>1</th>\n",
       "      <td>76</td>\n",
       "      <td>91</td>\n",
       "      <td>10.0</td>\n",
       "      <td>10.0</td>\n",
       "    </tr>\n",
       "    <tr>\n",
       "      <th>2</th>\n",
       "      <td>40</td>\n",
       "      <td>79</td>\n",
       "      <td>6.0</td>\n",
       "      <td>6.0</td>\n",
       "    </tr>\n",
       "    <tr>\n",
       "      <th>3</th>\n",
       "      <td>6</td>\n",
       "      <td>14</td>\n",
       "      <td>2.0</td>\n",
       "      <td>2.0</td>\n",
       "    </tr>\n",
       "    <tr>\n",
       "      <th>4</th>\n",
       "      <td>16</td>\n",
       "      <td>21</td>\n",
       "      <td>3.0</td>\n",
       "      <td>3.0</td>\n",
       "    </tr>\n",
       "    <tr>\n",
       "      <th>5</th>\n",
       "      <td>28</td>\n",
       "      <td>74</td>\n",
       "      <td>5.0</td>\n",
       "      <td>5.0</td>\n",
       "    </tr>\n",
       "    <tr>\n",
       "      <th>6</th>\n",
       "      <td>27</td>\n",
       "      <td>47</td>\n",
       "      <td>4.0</td>\n",
       "      <td>4.0</td>\n",
       "    </tr>\n",
       "    <tr>\n",
       "      <th>7</th>\n",
       "      <td>59</td>\n",
       "      <td>85</td>\n",
       "      <td>8.0</td>\n",
       "      <td>8.0</td>\n",
       "    </tr>\n",
       "    <tr>\n",
       "      <th>8</th>\n",
       "      <td>46</td>\n",
       "      <td>84</td>\n",
       "      <td>7.0</td>\n",
       "      <td>7.0</td>\n",
       "    </tr>\n",
       "    <tr>\n",
       "      <th>9</th>\n",
       "      <td>68</td>\n",
       "      <td>88</td>\n",
       "      <td>9.0</td>\n",
       "      <td>9.0</td>\n",
       "    </tr>\n",
       "  </tbody>\n",
       "</table>\n",
       "</div>"
      ],
      "text/plain": [
       "   hours  grade  rank_grade  rank_hours\n",
       "0      2     13         1.0         1.0\n",
       "1     76     91        10.0        10.0\n",
       "2     40     79         6.0         6.0\n",
       "3      6     14         2.0         2.0\n",
       "4     16     21         3.0         3.0\n",
       "5     28     74         5.0         5.0\n",
       "6     27     47         4.0         4.0\n",
       "7     59     85         8.0         8.0\n",
       "8     46     84         7.0         7.0\n",
       "9     68     88         9.0         9.0"
      ]
     },
     "execution_count": 41,
     "metadata": {},
     "output_type": "execute_result"
    }
   ],
   "source": [
    "grades_df['rank_grade']=grades_df['grade'].rank()\n",
    "grades_df['rank_hours']=grades_df['hours'].rank()\n",
    "grades_df"
   ]
  },
  {
   "cell_type": "markdown",
   "metadata": {},
   "source": [
    "Hmm, these two new columns are *identical*. The student who put in the most effort got the best grade, the student with the least effort got the worst grade, etc. (We used Pandas' `.rank()` method to rank each column and assign it to a new column of the data frame.\n",
    "\n",
    "As the table above shows, these two rankings are identical, so if we now correlate them we get a perfect relationship:"
   ]
  },
  {
   "cell_type": "code",
   "execution_count": 42,
   "metadata": {},
   "outputs": [
    {
     "name": "stdout",
     "output_type": "stream",
     "text": [
      "r = 0.9999999999999996\n"
     ]
    }
   ],
   "source": [
    "print(\"r =\", stats.pearsonr(grades_df['rank_hours'], grades_df['rank_grade'])[0])"
   ]
  },
  {
   "cell_type": "markdown",
   "metadata": {},
   "source": [
    "What we've just re-invented is **_Spearman's rank order correlation_**, usually denoted $\\rho$ to distinguish it from the Pearson correlation $r$. We can calculate Spearman's $\\rho$ using Python also using the Scipy stats library `spearmanr()` method:"
   ]
  },
  {
   "cell_type": "code",
   "execution_count": 43,
   "metadata": {},
   "outputs": [
    {
     "name": "stdout",
     "output_type": "stream",
     "text": [
      "r = 0.9999999999999999\n"
     ]
    }
   ],
   "source": [
    "print(\"r =\", stats.spearmanr(grades_df['rank_hours'], grades_df['rank_grade'])[0])"
   ]
  },
  {
   "cell_type": "markdown",
   "metadata": {},
   "source": [
    "## Reporting Descriptive Statistics"
   ]
  },
  {
   "cell_type": "markdown",
   "metadata": {},
   "source": [
    "Reporting descriptive statistics in papers is fairly straightforward.  You just mention the numbers in the text or include a table of numbers summarizing the key results.  Let's look at one example from one of my papers:\n",
    "\n",
    "```{figure} ./images/descriptivestats-methods.png\n",
    ":width: 550px\n",
    ":name: fig:methods\n",
    "\n",
    "Example methods/results section taken from {cite}`pamop:2020`.\n",
    "```\n",
    "\n",
    "There are a few descriptive statistics reported in this one paragraph.  For instance $N=50$ reports the number of subjects in the experiment.  Also the average duration of the task is reported using both a mean ($M=13.7$ minutes) and variability ($SD=4.6$).  Typically descriptive statistics are woven into the text this way using capital letters for things like \"mean\" and \"standard deviation\" and $r$ for correlation.  Here, the statistics are used just to give the reader a sense of how long the task took in general without showing a table of all the task durations for all 50 subjects (too much detail) but also more precise than the qualitative statement \"about 15 minutes\" which is good for intuition but also too vague by itself for a scientific report."
   ]
  },
  {
   "cell_type": "markdown",
   "metadata": {},
   "source": [
    "## Summary"
   ]
  },
  {
   "cell_type": "markdown",
   "metadata": {},
   "source": [
    "In this chapter you received a refresher on descriptive statistics and an overview of how to compute descriptive statistics using Python.  The key ideas are about being careful to choose the right descriptive statistics to summarize your data without hiding too much of the reality of the data from your audience.  In most cases, reporting descriptive statistics should go hand in hand with data visualization techniques considered in the previous chapter."
   ]
  },
  {
   "cell_type": "markdown",
   "metadata": {},
   "source": [
    "## References\n",
    "\n",
    "```{bibliography} ../../references.bib\n",
    ":filter: docname in docnames\n",
    "```"
   ]
  }
 ],
 "metadata": {
  "celltoolbar": "Tags",
  "kernelspec": {
   "display_name": "lab-in-cp",
   "language": "python",
   "name": "python3"
  },
  "language_info": {
   "codemirror_mode": {
    "name": "ipython",
    "version": 3
   },
   "file_extension": ".py",
   "mimetype": "text/x-python",
   "name": "python",
   "nbconvert_exporter": "python",
   "pygments_lexer": "ipython3",
   "version": "3.12.11"
  },
  "toc": {
   "base_numbering": 1,
   "nav_menu": {},
   "number_sections": true,
   "sideBar": true,
   "skip_h1_title": false,
   "title_cell": "Table of Contents",
   "title_sidebar": "Contents",
   "toc_cell": false,
   "toc_position": {},
   "toc_section_display": true,
   "toc_window_display": false
  }
 },
 "nbformat": 4,
 "nbformat_minor": 2
}
